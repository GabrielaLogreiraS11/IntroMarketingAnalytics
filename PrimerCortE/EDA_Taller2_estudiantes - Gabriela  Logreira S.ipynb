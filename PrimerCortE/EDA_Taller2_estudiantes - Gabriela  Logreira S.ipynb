{
  "cells": [
    {
      "cell_type": "markdown",
      "metadata": {
        "id": "O01pajJ0l0Lp"
      },
      "source": [
        "# EDA con Enfoque en CAC y LTV\n",
        "\n",
        "Este cuaderno se centra en **preguntas de negocio** que generan valor al entender la relación entre:\n",
        "- **CAC**: Costo de Adquisición de Cliente.\n",
        "- **LTV**: Valor de Vida del Cliente.\n",
        "\n",
        "Adicionalmente, explora aspectos clave como **suscripción**, **descuentos**, **categoría** del producto, **frecuencia de compras**, **método de pago**, etc. Con estas preguntas podrás tomar **decisiones estratégicas** sobre tu modelo de negocio, campañas de marketing y retención de clientes.\n",
        "\n",
        "## Contenido:\n",
        "1. **Importar librerías y cargar datos**\n",
        "2. **Inspección inicial** (dimensiones, tipos de datos, nulos)\n",
        "3. **Limpieza básica** (si es necesaria)\n",
        "4. **Creación de columna** ratio `LTV/CAC` (rentabilidad por cliente)\n",
        "5. **Preguntas de negocio** (groupby, filtros, etc.)\n",
        "6. **Conclusiones**"
      ]
    },
    {
      "cell_type": "code",
      "execution_count": 1,
      "metadata": {
        "id": "sgd1341al0Lt",
        "colab": {
          "base_uri": "https://localhost:8080/"
        },
        "outputId": "487be994-e786-4057-da9b-41c67ab29c22"
      },
      "outputs": [
        {
          "output_type": "stream",
          "name": "stdout",
          "text": [
            "--2025-03-13 23:56:35--  http://!wget/\n",
            "Resolving !wget (!wget)... failed: Name or service not known.\n",
            "wget: unable to resolve host address ‘!wget’\n",
            "--2025-03-13 23:56:35--  https://github.com/javierherrera1996/IntroMarketingAnalytics/raw/refs/heads/main/PrimerCorte/shopping_trends_LTV_CAC.csv\n",
            "Resolving github.com (github.com)... 140.82.113.4\n",
            "Connecting to github.com (github.com)|140.82.113.4|:443... connected.\n",
            "HTTP request sent, awaiting response... 302 Found\n",
            "Location: https://raw.githubusercontent.com/javierherrera1996/IntroMarketingAnalytics/refs/heads/main/PrimerCorte/shopping_trends_LTV_CAC.csv [following]\n",
            "--2025-03-13 23:56:35--  https://raw.githubusercontent.com/javierherrera1996/IntroMarketingAnalytics/refs/heads/main/PrimerCorte/shopping_trends_LTV_CAC.csv\n",
            "Resolving raw.githubusercontent.com (raw.githubusercontent.com)... 185.199.108.133, 185.199.109.133, 185.199.110.133, ...\n",
            "Connecting to raw.githubusercontent.com (raw.githubusercontent.com)|185.199.108.133|:443... connected.\n",
            "HTTP request sent, awaiting response... 200 OK\n",
            "Length: 613391 (599K) [text/plain]\n",
            "Saving to: ‘shopping_trends_LTV_CAC.csv’\n",
            "\n",
            "shopping_trends_LTV 100%[===================>] 599.01K  --.-KB/s    in 0.007s  \n",
            "\n",
            "2025-03-13 23:56:35 (88.7 MB/s) - ‘shopping_trends_LTV_CAC.csv’ saved [613391/613391]\n",
            "\n",
            "FINISHED --2025-03-13 23:56:35--\n",
            "Total wall clock time: 0.3s\n",
            "Downloaded: 1 files, 599K in 0.007s (88.7 MB/s)\n"
          ]
        }
      ],
      "source": [
        "!wget !wget https://github.com/javierherrera1996/IntroMarketingAnalytics/raw/refs/heads/main/PrimerCorte/shopping_trends_LTV_CAC.csv"
      ]
    },
    {
      "cell_type": "markdown",
      "metadata": {
        "id": "vu93py_gl0Lu"
      },
      "source": [
        "## 1. Importar librerías y cargar datos\n",
        "Asegúrate de tener tu archivo CSV con las columnas mencionadas: `CAC`, `LTV`, `Purchase Amount (USD)`, etc. Ajusta la ruta según tu archivo real."
      ]
    },
    {
      "cell_type": "code",
      "execution_count": 2,
      "metadata": {
        "id": "sOVd5SS_l0Lu",
        "outputId": "2c6a8dcf-625c-4df9-b8cc-a76da969eb74",
        "colab": {
          "base_uri": "https://localhost:8080/",
          "height": 342
        }
      },
      "outputs": [
        {
          "output_type": "execute_result",
          "data": {
            "text/plain": [
              "   Customer ID  Age Gender Item Purchased  Category  Purchase Amount (USD)  \\\n",
              "0            1   55   Male         Blouse  Clothing                     53   \n",
              "1            2   19   Male        Sweater  Clothing                     64   \n",
              "2            3   50   Male          Jeans  Clothing                     73   \n",
              "3            4   21   Male        Sandals  Footwear                     90   \n",
              "4            5   45   Male         Blouse  Clothing                     49   \n",
              "\n",
              "        Location Size      Color  Season  ...  Shipping Type Discount Applied  \\\n",
              "0       Kentucky    L       Gray  Winter  ...        Express              Yes   \n",
              "1          Maine    L     Maroon  Winter  ...        Express              Yes   \n",
              "2  Massachusetts    S     Maroon  Spring  ...  Free Shipping              Yes   \n",
              "3   Rhode Island    M     Maroon  Spring  ...   Next Day Air              Yes   \n",
              "4         Oregon    M  Turquoise  Spring  ...  Free Shipping              Yes   \n",
              "\n",
              "  Promo Code Used Previous Purchases Preferred Payment Method  \\\n",
              "0             Yes                 14                    Venmo   \n",
              "1             Yes                  2                     Cash   \n",
              "2             Yes                 23              Credit Card   \n",
              "3             Yes                 49                   PayPal   \n",
              "4             Yes                 31                   PayPal   \n",
              "\n",
              "  Frequency of Purchases    CAC   LTV Rentabilidad  LTV_CAC_Ratio  \n",
              "0            Fortnightly  112.0  1512    16.434783      13.500000  \n",
              "1            Fortnightly   95.0  1497    19.960000      15.757895  \n",
              "2                 Weekly   32.0  1137    94.750000      35.531250  \n",
              "3                 Weekly    NaN  1914    26.957746      26.957746  \n",
              "4               Annually   47.0  1300    48.148148      27.659574  \n",
              "\n",
              "[5 rows x 23 columns]"
            ],
            "text/html": [
              "\n",
              "  <div id=\"df-f438053d-3920-4944-81b0-40d84d37612a\" class=\"colab-df-container\">\n",
              "    <div>\n",
              "<style scoped>\n",
              "    .dataframe tbody tr th:only-of-type {\n",
              "        vertical-align: middle;\n",
              "    }\n",
              "\n",
              "    .dataframe tbody tr th {\n",
              "        vertical-align: top;\n",
              "    }\n",
              "\n",
              "    .dataframe thead th {\n",
              "        text-align: right;\n",
              "    }\n",
              "</style>\n",
              "<table border=\"1\" class=\"dataframe\">\n",
              "  <thead>\n",
              "    <tr style=\"text-align: right;\">\n",
              "      <th></th>\n",
              "      <th>Customer ID</th>\n",
              "      <th>Age</th>\n",
              "      <th>Gender</th>\n",
              "      <th>Item Purchased</th>\n",
              "      <th>Category</th>\n",
              "      <th>Purchase Amount (USD)</th>\n",
              "      <th>Location</th>\n",
              "      <th>Size</th>\n",
              "      <th>Color</th>\n",
              "      <th>Season</th>\n",
              "      <th>...</th>\n",
              "      <th>Shipping Type</th>\n",
              "      <th>Discount Applied</th>\n",
              "      <th>Promo Code Used</th>\n",
              "      <th>Previous Purchases</th>\n",
              "      <th>Preferred Payment Method</th>\n",
              "      <th>Frequency of Purchases</th>\n",
              "      <th>CAC</th>\n",
              "      <th>LTV</th>\n",
              "      <th>Rentabilidad</th>\n",
              "      <th>LTV_CAC_Ratio</th>\n",
              "    </tr>\n",
              "  </thead>\n",
              "  <tbody>\n",
              "    <tr>\n",
              "      <th>0</th>\n",
              "      <td>1</td>\n",
              "      <td>55</td>\n",
              "      <td>Male</td>\n",
              "      <td>Blouse</td>\n",
              "      <td>Clothing</td>\n",
              "      <td>53</td>\n",
              "      <td>Kentucky</td>\n",
              "      <td>L</td>\n",
              "      <td>Gray</td>\n",
              "      <td>Winter</td>\n",
              "      <td>...</td>\n",
              "      <td>Express</td>\n",
              "      <td>Yes</td>\n",
              "      <td>Yes</td>\n",
              "      <td>14</td>\n",
              "      <td>Venmo</td>\n",
              "      <td>Fortnightly</td>\n",
              "      <td>112.0</td>\n",
              "      <td>1512</td>\n",
              "      <td>16.434783</td>\n",
              "      <td>13.500000</td>\n",
              "    </tr>\n",
              "    <tr>\n",
              "      <th>1</th>\n",
              "      <td>2</td>\n",
              "      <td>19</td>\n",
              "      <td>Male</td>\n",
              "      <td>Sweater</td>\n",
              "      <td>Clothing</td>\n",
              "      <td>64</td>\n",
              "      <td>Maine</td>\n",
              "      <td>L</td>\n",
              "      <td>Maroon</td>\n",
              "      <td>Winter</td>\n",
              "      <td>...</td>\n",
              "      <td>Express</td>\n",
              "      <td>Yes</td>\n",
              "      <td>Yes</td>\n",
              "      <td>2</td>\n",
              "      <td>Cash</td>\n",
              "      <td>Fortnightly</td>\n",
              "      <td>95.0</td>\n",
              "      <td>1497</td>\n",
              "      <td>19.960000</td>\n",
              "      <td>15.757895</td>\n",
              "    </tr>\n",
              "    <tr>\n",
              "      <th>2</th>\n",
              "      <td>3</td>\n",
              "      <td>50</td>\n",
              "      <td>Male</td>\n",
              "      <td>Jeans</td>\n",
              "      <td>Clothing</td>\n",
              "      <td>73</td>\n",
              "      <td>Massachusetts</td>\n",
              "      <td>S</td>\n",
              "      <td>Maroon</td>\n",
              "      <td>Spring</td>\n",
              "      <td>...</td>\n",
              "      <td>Free Shipping</td>\n",
              "      <td>Yes</td>\n",
              "      <td>Yes</td>\n",
              "      <td>23</td>\n",
              "      <td>Credit Card</td>\n",
              "      <td>Weekly</td>\n",
              "      <td>32.0</td>\n",
              "      <td>1137</td>\n",
              "      <td>94.750000</td>\n",
              "      <td>35.531250</td>\n",
              "    </tr>\n",
              "    <tr>\n",
              "      <th>3</th>\n",
              "      <td>4</td>\n",
              "      <td>21</td>\n",
              "      <td>Male</td>\n",
              "      <td>Sandals</td>\n",
              "      <td>Footwear</td>\n",
              "      <td>90</td>\n",
              "      <td>Rhode Island</td>\n",
              "      <td>M</td>\n",
              "      <td>Maroon</td>\n",
              "      <td>Spring</td>\n",
              "      <td>...</td>\n",
              "      <td>Next Day Air</td>\n",
              "      <td>Yes</td>\n",
              "      <td>Yes</td>\n",
              "      <td>49</td>\n",
              "      <td>PayPal</td>\n",
              "      <td>Weekly</td>\n",
              "      <td>NaN</td>\n",
              "      <td>1914</td>\n",
              "      <td>26.957746</td>\n",
              "      <td>26.957746</td>\n",
              "    </tr>\n",
              "    <tr>\n",
              "      <th>4</th>\n",
              "      <td>5</td>\n",
              "      <td>45</td>\n",
              "      <td>Male</td>\n",
              "      <td>Blouse</td>\n",
              "      <td>Clothing</td>\n",
              "      <td>49</td>\n",
              "      <td>Oregon</td>\n",
              "      <td>M</td>\n",
              "      <td>Turquoise</td>\n",
              "      <td>Spring</td>\n",
              "      <td>...</td>\n",
              "      <td>Free Shipping</td>\n",
              "      <td>Yes</td>\n",
              "      <td>Yes</td>\n",
              "      <td>31</td>\n",
              "      <td>PayPal</td>\n",
              "      <td>Annually</td>\n",
              "      <td>47.0</td>\n",
              "      <td>1300</td>\n",
              "      <td>48.148148</td>\n",
              "      <td>27.659574</td>\n",
              "    </tr>\n",
              "  </tbody>\n",
              "</table>\n",
              "<p>5 rows × 23 columns</p>\n",
              "</div>\n",
              "    <div class=\"colab-df-buttons\">\n",
              "\n",
              "  <div class=\"colab-df-container\">\n",
              "    <button class=\"colab-df-convert\" onclick=\"convertToInteractive('df-f438053d-3920-4944-81b0-40d84d37612a')\"\n",
              "            title=\"Convert this dataframe to an interactive table.\"\n",
              "            style=\"display:none;\">\n",
              "\n",
              "  <svg xmlns=\"http://www.w3.org/2000/svg\" height=\"24px\" viewBox=\"0 -960 960 960\">\n",
              "    <path d=\"M120-120v-720h720v720H120Zm60-500h600v-160H180v160Zm220 220h160v-160H400v160Zm0 220h160v-160H400v160ZM180-400h160v-160H180v160Zm440 0h160v-160H620v160ZM180-180h160v-160H180v160Zm440 0h160v-160H620v160Z\"/>\n",
              "  </svg>\n",
              "    </button>\n",
              "\n",
              "  <style>\n",
              "    .colab-df-container {\n",
              "      display:flex;\n",
              "      gap: 12px;\n",
              "    }\n",
              "\n",
              "    .colab-df-convert {\n",
              "      background-color: #E8F0FE;\n",
              "      border: none;\n",
              "      border-radius: 50%;\n",
              "      cursor: pointer;\n",
              "      display: none;\n",
              "      fill: #1967D2;\n",
              "      height: 32px;\n",
              "      padding: 0 0 0 0;\n",
              "      width: 32px;\n",
              "    }\n",
              "\n",
              "    .colab-df-convert:hover {\n",
              "      background-color: #E2EBFA;\n",
              "      box-shadow: 0px 1px 2px rgba(60, 64, 67, 0.3), 0px 1px 3px 1px rgba(60, 64, 67, 0.15);\n",
              "      fill: #174EA6;\n",
              "    }\n",
              "\n",
              "    .colab-df-buttons div {\n",
              "      margin-bottom: 4px;\n",
              "    }\n",
              "\n",
              "    [theme=dark] .colab-df-convert {\n",
              "      background-color: #3B4455;\n",
              "      fill: #D2E3FC;\n",
              "    }\n",
              "\n",
              "    [theme=dark] .colab-df-convert:hover {\n",
              "      background-color: #434B5C;\n",
              "      box-shadow: 0px 1px 3px 1px rgba(0, 0, 0, 0.15);\n",
              "      filter: drop-shadow(0px 1px 2px rgba(0, 0, 0, 0.3));\n",
              "      fill: #FFFFFF;\n",
              "    }\n",
              "  </style>\n",
              "\n",
              "    <script>\n",
              "      const buttonEl =\n",
              "        document.querySelector('#df-f438053d-3920-4944-81b0-40d84d37612a button.colab-df-convert');\n",
              "      buttonEl.style.display =\n",
              "        google.colab.kernel.accessAllowed ? 'block' : 'none';\n",
              "\n",
              "      async function convertToInteractive(key) {\n",
              "        const element = document.querySelector('#df-f438053d-3920-4944-81b0-40d84d37612a');\n",
              "        const dataTable =\n",
              "          await google.colab.kernel.invokeFunction('convertToInteractive',\n",
              "                                                    [key], {});\n",
              "        if (!dataTable) return;\n",
              "\n",
              "        const docLinkHtml = 'Like what you see? Visit the ' +\n",
              "          '<a target=\"_blank\" href=https://colab.research.google.com/notebooks/data_table.ipynb>data table notebook</a>'\n",
              "          + ' to learn more about interactive tables.';\n",
              "        element.innerHTML = '';\n",
              "        dataTable['output_type'] = 'display_data';\n",
              "        await google.colab.output.renderOutput(dataTable, element);\n",
              "        const docLink = document.createElement('div');\n",
              "        docLink.innerHTML = docLinkHtml;\n",
              "        element.appendChild(docLink);\n",
              "      }\n",
              "    </script>\n",
              "  </div>\n",
              "\n",
              "\n",
              "<div id=\"df-322d088e-8611-418e-8c26-7e56b8b0a634\">\n",
              "  <button class=\"colab-df-quickchart\" onclick=\"quickchart('df-322d088e-8611-418e-8c26-7e56b8b0a634')\"\n",
              "            title=\"Suggest charts\"\n",
              "            style=\"display:none;\">\n",
              "\n",
              "<svg xmlns=\"http://www.w3.org/2000/svg\" height=\"24px\"viewBox=\"0 0 24 24\"\n",
              "     width=\"24px\">\n",
              "    <g>\n",
              "        <path d=\"M19 3H5c-1.1 0-2 .9-2 2v14c0 1.1.9 2 2 2h14c1.1 0 2-.9 2-2V5c0-1.1-.9-2-2-2zM9 17H7v-7h2v7zm4 0h-2V7h2v10zm4 0h-2v-4h2v4z\"/>\n",
              "    </g>\n",
              "</svg>\n",
              "  </button>\n",
              "\n",
              "<style>\n",
              "  .colab-df-quickchart {\n",
              "      --bg-color: #E8F0FE;\n",
              "      --fill-color: #1967D2;\n",
              "      --hover-bg-color: #E2EBFA;\n",
              "      --hover-fill-color: #174EA6;\n",
              "      --disabled-fill-color: #AAA;\n",
              "      --disabled-bg-color: #DDD;\n",
              "  }\n",
              "\n",
              "  [theme=dark] .colab-df-quickchart {\n",
              "      --bg-color: #3B4455;\n",
              "      --fill-color: #D2E3FC;\n",
              "      --hover-bg-color: #434B5C;\n",
              "      --hover-fill-color: #FFFFFF;\n",
              "      --disabled-bg-color: #3B4455;\n",
              "      --disabled-fill-color: #666;\n",
              "  }\n",
              "\n",
              "  .colab-df-quickchart {\n",
              "    background-color: var(--bg-color);\n",
              "    border: none;\n",
              "    border-radius: 50%;\n",
              "    cursor: pointer;\n",
              "    display: none;\n",
              "    fill: var(--fill-color);\n",
              "    height: 32px;\n",
              "    padding: 0;\n",
              "    width: 32px;\n",
              "  }\n",
              "\n",
              "  .colab-df-quickchart:hover {\n",
              "    background-color: var(--hover-bg-color);\n",
              "    box-shadow: 0 1px 2px rgba(60, 64, 67, 0.3), 0 1px 3px 1px rgba(60, 64, 67, 0.15);\n",
              "    fill: var(--button-hover-fill-color);\n",
              "  }\n",
              "\n",
              "  .colab-df-quickchart-complete:disabled,\n",
              "  .colab-df-quickchart-complete:disabled:hover {\n",
              "    background-color: var(--disabled-bg-color);\n",
              "    fill: var(--disabled-fill-color);\n",
              "    box-shadow: none;\n",
              "  }\n",
              "\n",
              "  .colab-df-spinner {\n",
              "    border: 2px solid var(--fill-color);\n",
              "    border-color: transparent;\n",
              "    border-bottom-color: var(--fill-color);\n",
              "    animation:\n",
              "      spin 1s steps(1) infinite;\n",
              "  }\n",
              "\n",
              "  @keyframes spin {\n",
              "    0% {\n",
              "      border-color: transparent;\n",
              "      border-bottom-color: var(--fill-color);\n",
              "      border-left-color: var(--fill-color);\n",
              "    }\n",
              "    20% {\n",
              "      border-color: transparent;\n",
              "      border-left-color: var(--fill-color);\n",
              "      border-top-color: var(--fill-color);\n",
              "    }\n",
              "    30% {\n",
              "      border-color: transparent;\n",
              "      border-left-color: var(--fill-color);\n",
              "      border-top-color: var(--fill-color);\n",
              "      border-right-color: var(--fill-color);\n",
              "    }\n",
              "    40% {\n",
              "      border-color: transparent;\n",
              "      border-right-color: var(--fill-color);\n",
              "      border-top-color: var(--fill-color);\n",
              "    }\n",
              "    60% {\n",
              "      border-color: transparent;\n",
              "      border-right-color: var(--fill-color);\n",
              "    }\n",
              "    80% {\n",
              "      border-color: transparent;\n",
              "      border-right-color: var(--fill-color);\n",
              "      border-bottom-color: var(--fill-color);\n",
              "    }\n",
              "    90% {\n",
              "      border-color: transparent;\n",
              "      border-bottom-color: var(--fill-color);\n",
              "    }\n",
              "  }\n",
              "</style>\n",
              "\n",
              "  <script>\n",
              "    async function quickchart(key) {\n",
              "      const quickchartButtonEl =\n",
              "        document.querySelector('#' + key + ' button');\n",
              "      quickchartButtonEl.disabled = true;  // To prevent multiple clicks.\n",
              "      quickchartButtonEl.classList.add('colab-df-spinner');\n",
              "      try {\n",
              "        const charts = await google.colab.kernel.invokeFunction(\n",
              "            'suggestCharts', [key], {});\n",
              "      } catch (error) {\n",
              "        console.error('Error during call to suggestCharts:', error);\n",
              "      }\n",
              "      quickchartButtonEl.classList.remove('colab-df-spinner');\n",
              "      quickchartButtonEl.classList.add('colab-df-quickchart-complete');\n",
              "    }\n",
              "    (() => {\n",
              "      let quickchartButtonEl =\n",
              "        document.querySelector('#df-322d088e-8611-418e-8c26-7e56b8b0a634 button');\n",
              "      quickchartButtonEl.style.display =\n",
              "        google.colab.kernel.accessAllowed ? 'block' : 'none';\n",
              "    })();\n",
              "  </script>\n",
              "</div>\n",
              "\n",
              "    </div>\n",
              "  </div>\n"
            ],
            "application/vnd.google.colaboratory.intrinsic+json": {
              "type": "dataframe",
              "variable_name": "df"
            }
          },
          "metadata": {},
          "execution_count": 2
        }
      ],
      "source": [
        "import pandas as pd\n",
        "import numpy as np\n",
        "\n",
        "\n",
        "# Cargar el dataset\n",
        "df = pd.read_csv(\"shopping_trends_LTV_CAC.csv\")\n",
        "\n",
        "\n",
        "# Mostramos las primeras filas para verificar\n",
        "df.head()"
      ]
    },
    {
      "cell_type": "markdown",
      "metadata": {
        "id": "VIxVpTz8l0Lv"
      },
      "source": [
        "## 2. Inspección inicial\n",
        "1. **Dimensiones (filas x columnas)**\n",
        "2. **Info general**: tipos de dato, nulos, etc.\n",
        "3. **Valores nulos** por columna."
      ]
    },
    {
      "cell_type": "markdown",
      "metadata": {
        "id": "56fbCQRal0Lv"
      },
      "source": [
        "Si existen valores nulos en columnas importantes (por ejemplo, `CAC`, `LTV`, `Customer ID`), evalúa si los eliminarás o imputarás."
      ]
    },
    {
      "cell_type": "code",
      "execution_count": 3,
      "metadata": {
        "id": "yZFXdR7rl0Lv",
        "outputId": "092bf36c-d7c7-488a-e20a-fe22b1133bb7",
        "colab": {
          "base_uri": "https://localhost:8080/"
        }
      },
      "outputs": [
        {
          "output_type": "stream",
          "name": "stdout",
          "text": [
            "<class 'pandas.core.frame.DataFrame'>\n",
            "RangeIndex: 3900 entries, 0 to 3899\n",
            "Data columns (total 23 columns):\n",
            " #   Column                    Non-Null Count  Dtype  \n",
            "---  ------                    --------------  -----  \n",
            " 0   Customer ID               3900 non-null   int64  \n",
            " 1   Age                       3900 non-null   int64  \n",
            " 2   Gender                    3900 non-null   object \n",
            " 3   Item Purchased            3900 non-null   object \n",
            " 4   Category                  3900 non-null   object \n",
            " 5   Purchase Amount (USD)     3900 non-null   int64  \n",
            " 6   Location                  3900 non-null   object \n",
            " 7   Size                      3900 non-null   object \n",
            " 8   Color                     3900 non-null   object \n",
            " 9   Season                    3900 non-null   object \n",
            " 10  Review Rating             3900 non-null   float64\n",
            " 11  Subscription Status       3900 non-null   object \n",
            " 12  Payment Method            3900 non-null   object \n",
            " 13  Shipping Type             3900 non-null   object \n",
            " 14  Discount Applied          3900 non-null   object \n",
            " 15  Promo Code Used           3900 non-null   object \n",
            " 16  Previous Purchases        3900 non-null   int64  \n",
            " 17  Preferred Payment Method  3900 non-null   object \n",
            " 18  Frequency of Purchases    3900 non-null   object \n",
            " 19  CAC                       3301 non-null   float64\n",
            " 20  LTV                       3900 non-null   int64  \n",
            " 21  Rentabilidad              3900 non-null   float64\n",
            " 22  LTV_CAC_Ratio             3900 non-null   float64\n",
            "dtypes: float64(4), int64(5), object(14)\n",
            "memory usage: 700.9+ KB\n"
          ]
        }
      ],
      "source": [
        "# Tabla de datos\n",
        "df.info()\n"
      ]
    },
    {
      "cell_type": "code",
      "source": [
        "#Tabla de datos\n",
        "data = {\n",
        "    \"Customer_ID\": [1, 2, 3, 4,5],\n",
        "    \"Category\": [\"Clothing\",\"Clothing\",\"Clothing\",\"footware\",\"Clothing\"],\n",
        "    \"CAC\": [112.0, 95.0, 32.0, None, 47.0],\n",
        "    \"LTV\": [1512, 1497, 1137, 1914, 1300]\n",
        "}\n",
        "\n",
        "# Creación del DataFrame\n",
        "df = pd.DataFrame(data)\n",
        "\n",
        "# 1. Inspección inicial: Dimensiones\n",
        "print(f\"Dimensiones del DataFrame: {df.shape[0]} filas, {df.shape[1]} columnas\")\n",
        "\n",
        "# 2. Información general sobre tipos de datos y valores nulos\n",
        "print(\"\\nInformación general:\")\n",
        "print(df.info())\n",
        "\n",
        "# 3. Valores nulos por columna\n",
        "print(\"\\nValores nulos por columna:\")\n",
        "print(df.isnull().sum())\n",
        "\n",
        "# 4. Evaluar columnas importantes (CAC, LTV, Customer_ID) y manejo de valores nulos\n",
        "columnas_importantes = ['CAC', 'LTV', 'Customer_ID','Category']\n",
        "for columna in columnas_importantes:\n",
        "    nulos = df[columna].isnull().sum()\n",
        "    if nulos > 0:\n",
        "        print(f\"\\nLa columna '{columna}' tiene {nulos} valores nulos.\")\n",
        "        # Evaluación: imputar o eliminar según el caso\n",
        "        if columna == \"Customer_ID\":\n",
        "            print(f\"**Sugerencia:** Eliminar filas con valores nulos en '{columna}', ya que es un identificador único.\")\n",
        "            df = df.dropna(subset=[columna])\n",
        "\n",
        "# Mostrar el DataFrame después del manejo de nulos\n",
        "print(\"\\nDataFrame después del manejo de valores nulos:\")\n",
        "print(df)\n"
      ],
      "metadata": {
        "id": "Gz_4TLmjAzgX",
        "outputId": "e48675c2-379c-4e68-dcfb-c90efba25c65",
        "colab": {
          "base_uri": "https://localhost:8080/"
        }
      },
      "execution_count": 5,
      "outputs": [
        {
          "output_type": "stream",
          "name": "stdout",
          "text": [
            "Dimensiones del DataFrame: 5 filas, 4 columnas\n",
            "\n",
            "Información general:\n",
            "<class 'pandas.core.frame.DataFrame'>\n",
            "RangeIndex: 5 entries, 0 to 4\n",
            "Data columns (total 4 columns):\n",
            " #   Column       Non-Null Count  Dtype  \n",
            "---  ------       --------------  -----  \n",
            " 0   Customer_ID  5 non-null      int64  \n",
            " 1   Category     5 non-null      object \n",
            " 2   CAC          4 non-null      float64\n",
            " 3   LTV          5 non-null      int64  \n",
            "dtypes: float64(1), int64(2), object(1)\n",
            "memory usage: 292.0+ bytes\n",
            "None\n",
            "\n",
            "Valores nulos por columna:\n",
            "Customer_ID    0\n",
            "Category       0\n",
            "CAC            1\n",
            "LTV            0\n",
            "dtype: int64\n",
            "\n",
            "La columna 'CAC' tiene 1 valores nulos.\n",
            "\n",
            "DataFrame después del manejo de valores nulos:\n",
            "   Customer_ID  Category    CAC   LTV\n",
            "0            1  Clothing  112.0  1512\n",
            "1            2  Clothing   95.0  1497\n",
            "2            3  Clothing   32.0  1137\n",
            "3            4  footware    NaN  1914\n",
            "4            5  Clothing   47.0  1300\n"
          ]
        }
      ]
    },
    {
      "cell_type": "markdown",
      "metadata": {
        "id": "WBULR8o8l0Lw"
      },
      "source": [
        "## 3. Limpieza básica\n",
        "Por ejemplo, si detectas `CAC <= 0` o `LTV <= 0` y consideras que no tienen sentido en tu negocio, podrías filtrar esos registros. Ajusta según tu criterio."
      ]
    },
    {
      "cell_type": "code",
      "execution_count": 6,
      "metadata": {
        "id": "F4rQiN4Kl0Lw",
        "outputId": "1d5cc7c0-8f25-40d9-8387-a51308a4a065",
        "colab": {
          "base_uri": "https://localhost:8080/"
        }
      },
      "outputs": [
        {
          "output_type": "stream",
          "name": "stdout",
          "text": [
            "Registros originales:\n",
            "   Customer_ID  Category    CAC   LTV\n",
            "0            1  Clothing  112.0  1512\n",
            "1            2  Clothing   95.0  1497\n",
            "2            3  Clothing   32.0  1137\n",
            "3            4  footware    NaN  1914\n",
            "4            5  Clothing   47.0  1300\n",
            "\n",
            "Registros después de la limpieza:\n",
            "   Customer_ID  Category    CAC   LTV\n",
            "0            1  Clothing  112.0  1512\n",
            "1            2  Clothing   95.0  1497\n",
            "2            3  Clothing   32.0  1137\n",
            "4            5  Clothing   47.0  1300\n"
          ]
        }
      ],
      "source": [
        "# Filtrar registros donde CAC > 0 y LTV > 0\n",
        "df_limpio = df[(df['CAC'] > 0) & (df['LTV'] > 0)]\n",
        "\n",
        "print(\"Registros originales:\")\n",
        "print(df)\n",
        "\n",
        "print(\"\\nRegistros después de la limpieza:\")\n",
        "print(df_limpio)"
      ]
    },
    {
      "cell_type": "markdown",
      "metadata": {
        "id": "Mu4BP8bKl0Lw"
      },
      "source": [
        "## 4. Creación de columna: Ratio LTV/CAC\n",
        "Es una métrica clave de la **rentabilidad** del cliente. Un valor > 1 indica que, en teoría, el cliente retorna más de lo que cuesta adquirirlo."
      ]
    },
    {
      "cell_type": "code",
      "execution_count": 7,
      "metadata": {
        "id": "w0z9JdPll0Lw",
        "outputId": "8cf3a039-e018-4072-8704-697248413218",
        "colab": {
          "base_uri": "https://localhost:8080/"
        }
      },
      "outputs": [
        {
          "output_type": "stream",
          "name": "stdout",
          "text": [
            "DataFrame con la nueva columna 'Ratio LTV/CAC':\n",
            "   Customer_ID  Category    CAC   LTV  Ratio_LTV_CAC\n",
            "0            1  Clothing  112.0  1512      13.500000\n",
            "1            2  Clothing   95.0  1497      15.757895\n",
            "2            3  Clothing   32.0  1137      35.531250\n",
            "4            5  Clothing   47.0  1300      27.659574\n"
          ]
        },
        {
          "output_type": "stream",
          "name": "stderr",
          "text": [
            "<ipython-input-7-11f34050aa0c>:2: SettingWithCopyWarning: \n",
            "A value is trying to be set on a copy of a slice from a DataFrame.\n",
            "Try using .loc[row_indexer,col_indexer] = value instead\n",
            "\n",
            "See the caveats in the documentation: https://pandas.pydata.org/pandas-docs/stable/user_guide/indexing.html#returning-a-view-versus-a-copy\n",
            "  df_limpio['Ratio_LTV_CAC'] = df_limpio['LTV'] / df_limpio['CAC']\n"
          ]
        }
      ],
      "source": [
        "# Creación de la columna Ratio LTV/CAC\n",
        "df_limpio['Ratio_LTV_CAC'] = df_limpio['LTV'] / df_limpio['CAC']\n",
        "\n",
        "# Verificar el resultado\n",
        "print(\"DataFrame con la nueva columna 'Ratio LTV/CAC':\")\n",
        "print(df_limpio)"
      ]
    },
    {
      "cell_type": "markdown",
      "metadata": {
        "id": "Nk6FFM3ll0Lw"
      },
      "source": [
        "## 5. Preguntas de Negocio\n",
        "En vez de usar gráficas o correlaciones, nos centramos en **preguntas que generen valor** al análisis. Cada una se resuelve con **groupby, filtros o estadísticas** simples.\n",
        "\n",
        "1. **¿Cuántos clientes únicos hay y cuál es la edad promedio?**\n",
        "2. **¿Cuál es el CAC promedio y el LTV promedio en todo el dataset?**\n",
        "3. **¿Cuál es la ratio LTV/CAC promedio?**\n",
        "4. **¿Qué categoría tiene el mayor LTV en promedio?**\n",
        "5. **¿En cuál categoría se justifica más el CAC?** (categoría con mayor ratio LTV/CAC)\n",
        "6. **¿Los clientes suscritos tienen LTV mayor que los no suscritos?**\n",
        "7. **¿Cuál es el método de pago más frecuente y su LTV promedio?**\n",
        "8. **¿Quiénes usan descuentos con mayor frecuencia?** (Por ejemplo, ¿cierto género, cierto rango de edad?)\n",
        "9. **¿Cuántos clientes aprovechan códigos promocionales (Promo Code Used)?** y su ratio LTV/CAC\n",
        "10. **¿Cuál es la frecuencia de compra más común (Frequency of Purchases)?** y su LTV asociado.\n",
        "11. **¿Cuál es la ubicación (Location) con mayor ratio LTV/CAC?**\n",
        "12. **Entre los clientes con `Previous Purchases` > X, cuál es el gasto promedio y LTV promedio?**\n"
      ]
    },
    {
      "cell_type": "markdown",
      "metadata": {
        "id": "fnzWaZdwl0Lx"
      },
      "source": [
        "### 5.1 ¿Cuántos clientes únicos hay y cuál es la edad promedio?"
      ]
    },
    {
      "cell_type": "code",
      "execution_count": 8,
      "metadata": {
        "id": "R-zKaOjhl0Lx",
        "outputId": "99831791-57a3-4ce4-941a-392c951f211c",
        "colab": {
          "base_uri": "https://localhost:8080/"
        }
      },
      "outputs": [
        {
          "output_type": "stream",
          "name": "stdout",
          "text": [
            "Número de clientes únicos: 5\n",
            "Edad promedio: 38.00 años\n"
          ]
        }
      ],
      "source": [
        "import pandas as pd\n",
        "\n",
        "# Ejemplo de DataFrame\n",
        "data = {\n",
        "    \"Customer_ID\": [1, 2, 3, 4, 5],\n",
        "    \"Age\": [55, 19, 50, 21, 45],\n",
        "    \"Purchase_Amount_USD\": [53, 64, 73, 90, 49],\n",
        "    \"Previous_purchases\" : [14, 2, 23, 49, 31],\n",
        "}\n",
        "\n",
        "df = pd.DataFrame(data)\n",
        "\n",
        "# Contar clientes únicos\n",
        "clientes_unicos = df['Customer_ID'].nunique()\n",
        "\n",
        "# Calcular la edad promedio\n",
        "edad_promedio = df['Age'].mean()\n",
        "\n",
        "print(f\"Número de clientes únicos: {clientes_unicos}\")\n",
        "print(f\"Edad promedio: {edad_promedio:.2f} años\")"
      ]
    },
    {
      "cell_type": "markdown",
      "metadata": {
        "id": "XaJuwpcTl0Lx"
      },
      "source": [
        "### 5.2 ¿Cuál es el CAC promedio y el LTV promedio en todo el dataset?"
      ]
    },
    {
      "cell_type": "code",
      "execution_count": 9,
      "metadata": {
        "id": "TVBkzCPRl0Lx",
        "outputId": "670058bd-db0e-4df6-a5a0-a3a90e2897a6",
        "colab": {
          "base_uri": "https://localhost:8080/"
        }
      },
      "outputs": [
        {
          "output_type": "stream",
          "name": "stdout",
          "text": [
            "CAC promedio: $65.80\n"
          ]
        }
      ],
      "source": [
        "# CAC promedio y el LTV promedio en todo el dataset\n",
        "cac_promedio = df['Purchase_Amount_USD'].mean()\n",
        "ltv_promedio = df['Purchase_Amount_USD'].sum() / clientes_unicos\n",
        "\n",
        "print(f\"CAC promedio: ${cac_promedio:.2f}\")\n"
      ]
    },
    {
      "cell_type": "markdown",
      "metadata": {
        "id": "4VdIO17gl0Lx"
      },
      "source": [
        "### 5.3 ¿Cuál es la ratio LTV/CAC promedio?"
      ]
    },
    {
      "cell_type": "code",
      "execution_count": 10,
      "metadata": {
        "id": "uH_bDmHjl0Lx",
        "outputId": "6ba571de-c708-4c07-8180-23f167148f65",
        "colab": {
          "base_uri": "https://localhost:8080/"
        }
      },
      "outputs": [
        {
          "output_type": "stream",
          "name": "stdout",
          "text": [
            "Ratio LTV/CAC promedio: 1.00\n"
          ]
        }
      ],
      "source": [
        "# ratio LTV/CAC promedio\n",
        "ratio_promedio = ltv_promedio / cac_promedio\n",
        "\n",
        "print(f\"Ratio LTV/CAC promedio: {ratio_promedio:.2f}\")\n"
      ]
    },
    {
      "cell_type": "markdown",
      "metadata": {
        "id": "oemG-9dgl0Lx"
      },
      "source": [
        "### 5.4 ¿Qué categoría tiene el mayor LTV en promedio?"
      ]
    },
    {
      "cell_type": "code",
      "execution_count": 11,
      "metadata": {
        "id": "vtS8-Zdal0Lx",
        "outputId": "c7f8e80c-427c-4c98-ea0a-7e017b5a7ea3",
        "colab": {
          "base_uri": "https://localhost:8080/"
        }
      },
      "outputs": [
        {
          "output_type": "stream",
          "name": "stdout",
          "text": [
            "Categoría con el mayor LTV promedio: Footwear\n",
            "LTV promedio más alto: 1914.00\n"
          ]
        }
      ],
      "source": [
        "# tabla de datos (ajusta los valores.\n",
        "data = {\n",
        "    \"Category\": [\"Clothing\", \"Clothing\", \"Clothing\", \"Footwear\", \"Clothing\"],\n",
        "    \"CAC\": [112.0, 95.0, 32.0, None, 47.0],\n",
        "    \"LTV\": [1512, 1497, 1137, 1914, 1300],\n",
        "}\n",
        "\n",
        "# Creación del DataFrame\n",
        "df = pd.DataFrame(data)\n",
        "\n",
        "# Agrupar por categoría y calcular el promedio de LTV\n",
        "ltv_promedio_por_categoria = df.groupby('Category')['LTV'].mean()\n",
        "\n",
        "# Identificar la categoría con el mayor LTV promedio\n",
        "categoria_mayor_ltv = ltv_promedio_por_categoria.idxmax()\n",
        "ltv_mayor_promedio = ltv_promedio_por_categoria.max()\n",
        "\n",
        "print(\"Categoría con el mayor LTV promedio:\", categoria_mayor_ltv)\n",
        "print(f\"LTV promedio más alto: {ltv_mayor_promedio:.2f}\")\n"
      ]
    },
    {
      "cell_type": "markdown",
      "metadata": {
        "id": "0hgGkGOAl0Lx"
      },
      "source": [
        "### 5.5 ¿En cuál categoría se justifica más el CAC? (mayor ratio LTV/CAC)"
      ]
    },
    {
      "cell_type": "code",
      "execution_count": 13,
      "metadata": {
        "id": "5KxrltoCl0Lx",
        "outputId": "869cb4a8-e661-4f78-f76f-db7273cc6428",
        "colab": {
          "base_uri": "https://localhost:8080/"
        }
      },
      "outputs": [
        {
          "output_type": "stream",
          "name": "stdout",
          "text": [
            "Categoría que justifica más el CAC: Footwear\n",
            "Ratio LTV/CAC más alto: 29.09\n"
          ]
        }
      ],
      "source": [
        "# categoría se justifica más el CAC? (mayor ratio LTV/CAC)\n",
        "ratio_ltv_cac = ltv_promedio_por_categoria / cac_promedio\n",
        "\n",
        "# Identificar la categoría con el mayor ratio LTV/CAC\n",
        "categoria_mayor_ratio = ratio_ltv_cac.idxmax()\n",
        "ratio_maximo = ratio_ltv_cac.max()\n",
        "\n",
        "print(\"Categoría que justifica más el CAC:\", categoria_mayor_ratio)\n",
        "print(f\"Ratio LTV/CAC más alto: {ratio_maximo:.2f}\")\n",
        "\n"
      ]
    },
    {
      "cell_type": "markdown",
      "metadata": {
        "id": "2Y-rWIQbl0Lx"
      },
      "source": [
        "### 5.6 ¿Los clientes suscritos tienen LTV mayor que los no suscritos?"
      ]
    },
    {
      "cell_type": "code",
      "execution_count": 16,
      "metadata": {
        "id": "hY2KZjOCl0Ly",
        "outputId": "c1c21108-ab5d-40c0-ee38-b14efaccd164",
        "colab": {
          "base_uri": "https://localhost:8080/",
          "height": 569
        }
      },
      "outputs": [
        {
          "output_type": "error",
          "ename": "KeyError",
          "evalue": "'Subscription Status'",
          "traceback": [
            "\u001b[0;31m---------------------------------------------------------------------------\u001b[0m",
            "\u001b[0;31mKeyError\u001b[0m                                  Traceback (most recent call last)",
            "\u001b[0;32m/usr/local/lib/python3.11/dist-packages/pandas/core/indexes/base.py\u001b[0m in \u001b[0;36mget_loc\u001b[0;34m(self, key)\u001b[0m\n\u001b[1;32m   3804\u001b[0m         \u001b[0;32mtry\u001b[0m\u001b[0;34m:\u001b[0m\u001b[0;34m\u001b[0m\u001b[0;34m\u001b[0m\u001b[0m\n\u001b[0;32m-> 3805\u001b[0;31m             \u001b[0;32mreturn\u001b[0m \u001b[0mself\u001b[0m\u001b[0;34m.\u001b[0m\u001b[0m_engine\u001b[0m\u001b[0;34m.\u001b[0m\u001b[0mget_loc\u001b[0m\u001b[0;34m(\u001b[0m\u001b[0mcasted_key\u001b[0m\u001b[0;34m)\u001b[0m\u001b[0;34m\u001b[0m\u001b[0;34m\u001b[0m\u001b[0m\n\u001b[0m\u001b[1;32m   3806\u001b[0m         \u001b[0;32mexcept\u001b[0m \u001b[0mKeyError\u001b[0m \u001b[0;32mas\u001b[0m \u001b[0merr\u001b[0m\u001b[0;34m:\u001b[0m\u001b[0;34m\u001b[0m\u001b[0;34m\u001b[0m\u001b[0m\n",
            "\u001b[0;32mindex.pyx\u001b[0m in \u001b[0;36mpandas._libs.index.IndexEngine.get_loc\u001b[0;34m()\u001b[0m\n",
            "\u001b[0;32mindex.pyx\u001b[0m in \u001b[0;36mpandas._libs.index.IndexEngine.get_loc\u001b[0;34m()\u001b[0m\n",
            "\u001b[0;32mpandas/_libs/hashtable_class_helper.pxi\u001b[0m in \u001b[0;36mpandas._libs.hashtable.PyObjectHashTable.get_item\u001b[0;34m()\u001b[0m\n",
            "\u001b[0;32mpandas/_libs/hashtable_class_helper.pxi\u001b[0m in \u001b[0;36mpandas._libs.hashtable.PyObjectHashTable.get_item\u001b[0;34m()\u001b[0m\n",
            "\u001b[0;31mKeyError\u001b[0m: 'Subscription Status'",
            "\nThe above exception was the direct cause of the following exception:\n",
            "\u001b[0;31mKeyError\u001b[0m                                  Traceback (most recent call last)",
            "\u001b[0;32m<ipython-input-16-a8e98895d15c>\u001b[0m in \u001b[0;36m<cell line: 0>\u001b[0;34m()\u001b[0m\n\u001b[1;32m      1\u001b[0m \u001b[0;31m# Los clientes suscritos tienen LTV mayor que los no suscritos\u001b[0m\u001b[0;34m\u001b[0m\u001b[0;34m\u001b[0m\u001b[0m\n\u001b[0;32m----> 2\u001b[0;31m \u001b[0msuscritos\u001b[0m \u001b[0;34m=\u001b[0m \u001b[0mdf\u001b[0m\u001b[0;34m[\u001b[0m\u001b[0mdf\u001b[0m\u001b[0;34m[\u001b[0m\u001b[0;34m'Subscription Status'\u001b[0m\u001b[0;34m]\u001b[0m \u001b[0;34m==\u001b[0m \u001b[0;34m'Yes'\u001b[0m\u001b[0;34m]\u001b[0m\u001b[0;34m\u001b[0m\u001b[0;34m\u001b[0m\u001b[0m\n\u001b[0m\u001b[1;32m      3\u001b[0m \u001b[0mno_suscritos\u001b[0m \u001b[0;34m=\u001b[0m \u001b[0mdf\u001b[0m\u001b[0;34m[\u001b[0m\u001b[0mdf\u001b[0m\u001b[0;34m[\u001b[0m\u001b[0;34m'Subscription Status'\u001b[0m\u001b[0;34m]\u001b[0m \u001b[0;34m==\u001b[0m \u001b[0;34m'No'\u001b[0m\u001b[0;34m]\u001b[0m\u001b[0;34m\u001b[0m\u001b[0;34m\u001b[0m\u001b[0m\n\u001b[1;32m      4\u001b[0m \u001b[0;34m\u001b[0m\u001b[0m\n\u001b[1;32m      5\u001b[0m \u001b[0mltv_suscritos\u001b[0m \u001b[0;34m=\u001b[0m \u001b[0msuscritos\u001b[0m\u001b[0;34m[\u001b[0m\u001b[0;34m'LTV'\u001b[0m\u001b[0;34m]\u001b[0m\u001b[0;34m.\u001b[0m\u001b[0mmean\u001b[0m\u001b[0;34m(\u001b[0m\u001b[0;34m)\u001b[0m\u001b[0;34m\u001b[0m\u001b[0;34m\u001b[0m\u001b[0m\n",
            "\u001b[0;32m/usr/local/lib/python3.11/dist-packages/pandas/core/frame.py\u001b[0m in \u001b[0;36m__getitem__\u001b[0;34m(self, key)\u001b[0m\n\u001b[1;32m   4100\u001b[0m             \u001b[0;32mif\u001b[0m \u001b[0mself\u001b[0m\u001b[0;34m.\u001b[0m\u001b[0mcolumns\u001b[0m\u001b[0;34m.\u001b[0m\u001b[0mnlevels\u001b[0m \u001b[0;34m>\u001b[0m \u001b[0;36m1\u001b[0m\u001b[0;34m:\u001b[0m\u001b[0;34m\u001b[0m\u001b[0;34m\u001b[0m\u001b[0m\n\u001b[1;32m   4101\u001b[0m                 \u001b[0;32mreturn\u001b[0m \u001b[0mself\u001b[0m\u001b[0;34m.\u001b[0m\u001b[0m_getitem_multilevel\u001b[0m\u001b[0;34m(\u001b[0m\u001b[0mkey\u001b[0m\u001b[0;34m)\u001b[0m\u001b[0;34m\u001b[0m\u001b[0;34m\u001b[0m\u001b[0m\n\u001b[0;32m-> 4102\u001b[0;31m             \u001b[0mindexer\u001b[0m \u001b[0;34m=\u001b[0m \u001b[0mself\u001b[0m\u001b[0;34m.\u001b[0m\u001b[0mcolumns\u001b[0m\u001b[0;34m.\u001b[0m\u001b[0mget_loc\u001b[0m\u001b[0;34m(\u001b[0m\u001b[0mkey\u001b[0m\u001b[0;34m)\u001b[0m\u001b[0;34m\u001b[0m\u001b[0;34m\u001b[0m\u001b[0m\n\u001b[0m\u001b[1;32m   4103\u001b[0m             \u001b[0;32mif\u001b[0m \u001b[0mis_integer\u001b[0m\u001b[0;34m(\u001b[0m\u001b[0mindexer\u001b[0m\u001b[0;34m)\u001b[0m\u001b[0;34m:\u001b[0m\u001b[0;34m\u001b[0m\u001b[0;34m\u001b[0m\u001b[0m\n\u001b[1;32m   4104\u001b[0m                 \u001b[0mindexer\u001b[0m \u001b[0;34m=\u001b[0m \u001b[0;34m[\u001b[0m\u001b[0mindexer\u001b[0m\u001b[0;34m]\u001b[0m\u001b[0;34m\u001b[0m\u001b[0;34m\u001b[0m\u001b[0m\n",
            "\u001b[0;32m/usr/local/lib/python3.11/dist-packages/pandas/core/indexes/base.py\u001b[0m in \u001b[0;36mget_loc\u001b[0;34m(self, key)\u001b[0m\n\u001b[1;32m   3810\u001b[0m             ):\n\u001b[1;32m   3811\u001b[0m                 \u001b[0;32mraise\u001b[0m \u001b[0mInvalidIndexError\u001b[0m\u001b[0;34m(\u001b[0m\u001b[0mkey\u001b[0m\u001b[0;34m)\u001b[0m\u001b[0;34m\u001b[0m\u001b[0;34m\u001b[0m\u001b[0m\n\u001b[0;32m-> 3812\u001b[0;31m             \u001b[0;32mraise\u001b[0m \u001b[0mKeyError\u001b[0m\u001b[0;34m(\u001b[0m\u001b[0mkey\u001b[0m\u001b[0;34m)\u001b[0m \u001b[0;32mfrom\u001b[0m \u001b[0merr\u001b[0m\u001b[0;34m\u001b[0m\u001b[0;34m\u001b[0m\u001b[0m\n\u001b[0m\u001b[1;32m   3813\u001b[0m         \u001b[0;32mexcept\u001b[0m \u001b[0mTypeError\u001b[0m\u001b[0;34m:\u001b[0m\u001b[0;34m\u001b[0m\u001b[0;34m\u001b[0m\u001b[0m\n\u001b[1;32m   3814\u001b[0m             \u001b[0;31m# If we have a listlike key, _check_indexing_error will raise\u001b[0m\u001b[0;34m\u001b[0m\u001b[0;34m\u001b[0m\u001b[0m\n",
            "\u001b[0;31mKeyError\u001b[0m: 'Subscription Status'"
          ]
        }
      ],
      "source": [
        "# Los clientes suscritos tienen LTV mayor que los no suscritos\n",
        "suscritos = df[df['Subscription Status'] == 'Yes']\n",
        "no_suscritos = df[df['Subscription Status'] == 'No']\n",
        "\n",
        "ltv_suscritos = suscritos['LTV'].mean()\n",
        "ltv_no_suscritos = no_suscritos['LTV'].mean()\n",
        "\n",
        "print(f\"LTV promedio de clientes suscritos: {ltv_suscritos:.2f}\")\n",
        "print(f\"LTV promedio de clientes no suscritos: {ltv_no_suscritos:.2f}\")\n"
      ]
    },
    {
      "cell_type": "markdown",
      "metadata": {
        "id": "9XIm-WKdl0Ly"
      },
      "source": [
        "### 5.7 ¿Cuál es el método de pago más frecuente y su LTV promedio?"
      ]
    },
    {
      "cell_type": "code",
      "execution_count": 18,
      "metadata": {
        "id": "v_qT8Kxml0Ly",
        "outputId": "716eab86-283d-40e8-d195-dbae7153f291",
        "colab": {
          "base_uri": "https://localhost:8080/",
          "height": 569
        }
      },
      "outputs": [
        {
          "output_type": "error",
          "ename": "KeyError",
          "evalue": "'Payment Method'",
          "traceback": [
            "\u001b[0;31m---------------------------------------------------------------------------\u001b[0m",
            "\u001b[0;31mKeyError\u001b[0m                                  Traceback (most recent call last)",
            "\u001b[0;32m/usr/local/lib/python3.11/dist-packages/pandas/core/indexes/base.py\u001b[0m in \u001b[0;36mget_loc\u001b[0;34m(self, key)\u001b[0m\n\u001b[1;32m   3804\u001b[0m         \u001b[0;32mtry\u001b[0m\u001b[0;34m:\u001b[0m\u001b[0;34m\u001b[0m\u001b[0;34m\u001b[0m\u001b[0m\n\u001b[0;32m-> 3805\u001b[0;31m             \u001b[0;32mreturn\u001b[0m \u001b[0mself\u001b[0m\u001b[0;34m.\u001b[0m\u001b[0m_engine\u001b[0m\u001b[0;34m.\u001b[0m\u001b[0mget_loc\u001b[0m\u001b[0;34m(\u001b[0m\u001b[0mcasted_key\u001b[0m\u001b[0;34m)\u001b[0m\u001b[0;34m\u001b[0m\u001b[0;34m\u001b[0m\u001b[0m\n\u001b[0m\u001b[1;32m   3806\u001b[0m         \u001b[0;32mexcept\u001b[0m \u001b[0mKeyError\u001b[0m \u001b[0;32mas\u001b[0m \u001b[0merr\u001b[0m\u001b[0;34m:\u001b[0m\u001b[0;34m\u001b[0m\u001b[0;34m\u001b[0m\u001b[0m\n",
            "\u001b[0;32mindex.pyx\u001b[0m in \u001b[0;36mpandas._libs.index.IndexEngine.get_loc\u001b[0;34m()\u001b[0m\n",
            "\u001b[0;32mindex.pyx\u001b[0m in \u001b[0;36mpandas._libs.index.IndexEngine.get_loc\u001b[0;34m()\u001b[0m\n",
            "\u001b[0;32mpandas/_libs/hashtable_class_helper.pxi\u001b[0m in \u001b[0;36mpandas._libs.hashtable.PyObjectHashTable.get_item\u001b[0;34m()\u001b[0m\n",
            "\u001b[0;32mpandas/_libs/hashtable_class_helper.pxi\u001b[0m in \u001b[0;36mpandas._libs.hashtable.PyObjectHashTable.get_item\u001b[0;34m()\u001b[0m\n",
            "\u001b[0;31mKeyError\u001b[0m: 'Payment Method'",
            "\nThe above exception was the direct cause of the following exception:\n",
            "\u001b[0;31mKeyError\u001b[0m                                  Traceback (most recent call last)",
            "\u001b[0;32m<ipython-input-18-531c916e8276>\u001b[0m in \u001b[0;36m<cell line: 0>\u001b[0;34m()\u001b[0m\n\u001b[1;32m      1\u001b[0m \u001b[0;31m# método de pago más frecuente y su LTV promedio\u001b[0m\u001b[0;34m\u001b[0m\u001b[0;34m\u001b[0m\u001b[0m\n\u001b[0;32m----> 2\u001b[0;31m \u001b[0mmetodo_pago_frecuencia\u001b[0m \u001b[0;34m=\u001b[0m \u001b[0mdf\u001b[0m\u001b[0;34m[\u001b[0m\u001b[0;34m'Payment Method'\u001b[0m\u001b[0;34m]\u001b[0m\u001b[0;34m.\u001b[0m\u001b[0mvalue_counts\u001b[0m\u001b[0;34m(\u001b[0m\u001b[0;34m)\u001b[0m\u001b[0;34m\u001b[0m\u001b[0;34m\u001b[0m\u001b[0m\n\u001b[0m\u001b[1;32m      3\u001b[0m \u001b[0mmetodo_pago_frecuencia_mas_frecuente\u001b[0m \u001b[0;34m=\u001b[0m \u001b[0mmetodo_pago_frecuencia\u001b[0m\u001b[0;34m.\u001b[0m\u001b[0midxmax\u001b[0m\u001b[0;34m(\u001b[0m\u001b[0;34m)\u001b[0m\u001b[0;34m\u001b[0m\u001b[0;34m\u001b[0m\u001b[0m\n\u001b[1;32m      4\u001b[0m \u001b[0mltv_promedio_por_metodo\u001b[0m \u001b[0;34m=\u001b[0m \u001b[0mdf\u001b[0m\u001b[0;34m.\u001b[0m\u001b[0mgroupby\u001b[0m\u001b[0;34m(\u001b[0m\u001b[0;34m'Payment Method'\u001b[0m\u001b[0;34m)\u001b[0m\u001b[0;34m[\u001b[0m\u001b[0;34m'LTV'\u001b[0m\u001b[0;34m]\u001b[0m\u001b[0;34m.\u001b[0m\u001b[0mmean\u001b[0m\u001b[0;34m(\u001b[0m\u001b[0;34m)\u001b[0m\u001b[0;34m\u001b[0m\u001b[0;34m\u001b[0m\u001b[0m\n\u001b[1;32m      5\u001b[0m \u001b[0mltv_promedio_mas_alto\u001b[0m \u001b[0;34m=\u001b[0m \u001b[0mltv_promedio_por_metodo\u001b[0m\u001b[0;34m.\u001b[0m\u001b[0mmax\u001b[0m\u001b[0;34m(\u001b[0m\u001b[0;34m)\u001b[0m\u001b[0;34m\u001b[0m\u001b[0;34m\u001b[0m\u001b[0m\n",
            "\u001b[0;32m/usr/local/lib/python3.11/dist-packages/pandas/core/frame.py\u001b[0m in \u001b[0;36m__getitem__\u001b[0;34m(self, key)\u001b[0m\n\u001b[1;32m   4100\u001b[0m             \u001b[0;32mif\u001b[0m \u001b[0mself\u001b[0m\u001b[0;34m.\u001b[0m\u001b[0mcolumns\u001b[0m\u001b[0;34m.\u001b[0m\u001b[0mnlevels\u001b[0m \u001b[0;34m>\u001b[0m \u001b[0;36m1\u001b[0m\u001b[0;34m:\u001b[0m\u001b[0;34m\u001b[0m\u001b[0;34m\u001b[0m\u001b[0m\n\u001b[1;32m   4101\u001b[0m                 \u001b[0;32mreturn\u001b[0m \u001b[0mself\u001b[0m\u001b[0;34m.\u001b[0m\u001b[0m_getitem_multilevel\u001b[0m\u001b[0;34m(\u001b[0m\u001b[0mkey\u001b[0m\u001b[0;34m)\u001b[0m\u001b[0;34m\u001b[0m\u001b[0;34m\u001b[0m\u001b[0m\n\u001b[0;32m-> 4102\u001b[0;31m             \u001b[0mindexer\u001b[0m \u001b[0;34m=\u001b[0m \u001b[0mself\u001b[0m\u001b[0;34m.\u001b[0m\u001b[0mcolumns\u001b[0m\u001b[0;34m.\u001b[0m\u001b[0mget_loc\u001b[0m\u001b[0;34m(\u001b[0m\u001b[0mkey\u001b[0m\u001b[0;34m)\u001b[0m\u001b[0;34m\u001b[0m\u001b[0;34m\u001b[0m\u001b[0m\n\u001b[0m\u001b[1;32m   4103\u001b[0m             \u001b[0;32mif\u001b[0m \u001b[0mis_integer\u001b[0m\u001b[0;34m(\u001b[0m\u001b[0mindexer\u001b[0m\u001b[0;34m)\u001b[0m\u001b[0;34m:\u001b[0m\u001b[0;34m\u001b[0m\u001b[0;34m\u001b[0m\u001b[0m\n\u001b[1;32m   4104\u001b[0m                 \u001b[0mindexer\u001b[0m \u001b[0;34m=\u001b[0m \u001b[0;34m[\u001b[0m\u001b[0mindexer\u001b[0m\u001b[0;34m]\u001b[0m\u001b[0;34m\u001b[0m\u001b[0;34m\u001b[0m\u001b[0m\n",
            "\u001b[0;32m/usr/local/lib/python3.11/dist-packages/pandas/core/indexes/base.py\u001b[0m in \u001b[0;36mget_loc\u001b[0;34m(self, key)\u001b[0m\n\u001b[1;32m   3810\u001b[0m             ):\n\u001b[1;32m   3811\u001b[0m                 \u001b[0;32mraise\u001b[0m \u001b[0mInvalidIndexError\u001b[0m\u001b[0;34m(\u001b[0m\u001b[0mkey\u001b[0m\u001b[0;34m)\u001b[0m\u001b[0;34m\u001b[0m\u001b[0;34m\u001b[0m\u001b[0m\n\u001b[0;32m-> 3812\u001b[0;31m             \u001b[0;32mraise\u001b[0m \u001b[0mKeyError\u001b[0m\u001b[0;34m(\u001b[0m\u001b[0mkey\u001b[0m\u001b[0;34m)\u001b[0m \u001b[0;32mfrom\u001b[0m \u001b[0merr\u001b[0m\u001b[0;34m\u001b[0m\u001b[0;34m\u001b[0m\u001b[0m\n\u001b[0m\u001b[1;32m   3813\u001b[0m         \u001b[0;32mexcept\u001b[0m \u001b[0mTypeError\u001b[0m\u001b[0;34m:\u001b[0m\u001b[0;34m\u001b[0m\u001b[0;34m\u001b[0m\u001b[0m\n\u001b[1;32m   3814\u001b[0m             \u001b[0;31m# If we have a listlike key, _check_indexing_error will raise\u001b[0m\u001b[0;34m\u001b[0m\u001b[0;34m\u001b[0m\u001b[0m\n",
            "\u001b[0;31mKeyError\u001b[0m: 'Payment Method'"
          ]
        }
      ],
      "source": [
        "# método de pago más frecuente y su LTV promedio\n",
        "metodo_pago_frecuencia = df['Payment Method'].value_counts()\n",
        "metodo_pago_frecuencia_mas_frecuente = metodo_pago_frecuencia.idxmax()\n",
        "ltv_promedio_por_metodo = df.groupby('Payment Method')['LTV'].mean()\n",
        "ltv_promedio_mas_alto = ltv_promedio_por_metodo.max()\n",
        "\n",
        "print(\"Método de pago más frecuente:\", metodo_pago_frecuencia_mas_frecuente)\n",
        "print(f\"LTV promedio más alto: {ltv_promedio_mas_alto:.2f}\")\n",
        "\n"
      ]
    },
    {
      "cell_type": "markdown",
      "metadata": {
        "id": "vpl4g3Bxl0Ly"
      },
      "source": [
        "### 5.8 ¿Quiénes usan descuentos con mayor frecuencia?\n",
        "Podemos ver si hay algún grupo (por género, rango de edad, etc.) que destaca. A modo de ejemplo, segmentaremos por género:"
      ]
    },
    {
      "cell_type": "code",
      "execution_count": 19,
      "metadata": {
        "id": "3eIvztWfl0Ly",
        "outputId": "1c797a0d-6efe-4daa-ee01-381693dc3ac8",
        "colab": {
          "base_uri": "https://localhost:8080/",
          "height": 569
        }
      },
      "outputs": [
        {
          "output_type": "error",
          "ename": "KeyError",
          "evalue": "'Discount Applied'",
          "traceback": [
            "\u001b[0;31m---------------------------------------------------------------------------\u001b[0m",
            "\u001b[0;31mKeyError\u001b[0m                                  Traceback (most recent call last)",
            "\u001b[0;32m/usr/local/lib/python3.11/dist-packages/pandas/core/indexes/base.py\u001b[0m in \u001b[0;36mget_loc\u001b[0;34m(self, key)\u001b[0m\n\u001b[1;32m   3804\u001b[0m         \u001b[0;32mtry\u001b[0m\u001b[0;34m:\u001b[0m\u001b[0;34m\u001b[0m\u001b[0;34m\u001b[0m\u001b[0m\n\u001b[0;32m-> 3805\u001b[0;31m             \u001b[0;32mreturn\u001b[0m \u001b[0mself\u001b[0m\u001b[0;34m.\u001b[0m\u001b[0m_engine\u001b[0m\u001b[0;34m.\u001b[0m\u001b[0mget_loc\u001b[0m\u001b[0;34m(\u001b[0m\u001b[0mcasted_key\u001b[0m\u001b[0;34m)\u001b[0m\u001b[0;34m\u001b[0m\u001b[0;34m\u001b[0m\u001b[0m\n\u001b[0m\u001b[1;32m   3806\u001b[0m         \u001b[0;32mexcept\u001b[0m \u001b[0mKeyError\u001b[0m \u001b[0;32mas\u001b[0m \u001b[0merr\u001b[0m\u001b[0;34m:\u001b[0m\u001b[0;34m\u001b[0m\u001b[0;34m\u001b[0m\u001b[0m\n",
            "\u001b[0;32mindex.pyx\u001b[0m in \u001b[0;36mpandas._libs.index.IndexEngine.get_loc\u001b[0;34m()\u001b[0m\n",
            "\u001b[0;32mindex.pyx\u001b[0m in \u001b[0;36mpandas._libs.index.IndexEngine.get_loc\u001b[0;34m()\u001b[0m\n",
            "\u001b[0;32mpandas/_libs/hashtable_class_helper.pxi\u001b[0m in \u001b[0;36mpandas._libs.hashtable.PyObjectHashTable.get_item\u001b[0;34m()\u001b[0m\n",
            "\u001b[0;32mpandas/_libs/hashtable_class_helper.pxi\u001b[0m in \u001b[0;36mpandas._libs.hashtable.PyObjectHashTable.get_item\u001b[0;34m()\u001b[0m\n",
            "\u001b[0;31mKeyError\u001b[0m: 'Discount Applied'",
            "\nThe above exception was the direct cause of the following exception:\n",
            "\u001b[0;31mKeyError\u001b[0m                                  Traceback (most recent call last)",
            "\u001b[0;32m<ipython-input-19-e830dec3a34d>\u001b[0m in \u001b[0;36m<cell line: 0>\u001b[0;34m()\u001b[0m\n\u001b[1;32m      1\u001b[0m \u001b[0;31m# Clientes que usan descuentos con mayor frecuencia\u001b[0m\u001b[0;34m\u001b[0m\u001b[0;34m\u001b[0m\u001b[0m\n\u001b[0;32m----> 2\u001b[0;31m \u001b[0mdescuentos_frecuencia\u001b[0m \u001b[0;34m=\u001b[0m \u001b[0mdf\u001b[0m\u001b[0;34m[\u001b[0m\u001b[0;34m'Discount Applied'\u001b[0m\u001b[0;34m]\u001b[0m\u001b[0;34m.\u001b[0m\u001b[0mvalue_counts\u001b[0m\u001b[0;34m(\u001b[0m\u001b[0;34m)\u001b[0m\u001b[0;34m\u001b[0m\u001b[0;34m\u001b[0m\u001b[0m\n\u001b[0m\u001b[1;32m      3\u001b[0m \u001b[0mdescuentos_frecuencia_mas_frecuentes\u001b[0m \u001b[0;34m=\u001b[0m \u001b[0mdescuentos_frecuencia\u001b[0m\u001b[0;34m.\u001b[0m\u001b[0midxmax\u001b[0m\u001b[0;34m(\u001b[0m\u001b[0;34m)\u001b[0m\u001b[0;34m\u001b[0m\u001b[0;34m\u001b[0m\u001b[0m\n\u001b[1;32m      4\u001b[0m \u001b[0mprint\u001b[0m\u001b[0;34m(\u001b[0m\u001b[0;34m\"Descuentos más frecuentes:\"\u001b[0m\u001b[0;34m,\u001b[0m \u001b[0mdescuentos_frecuencia_mas_frecuentes\u001b[0m\u001b[0;34m)\u001b[0m\u001b[0;34m\u001b[0m\u001b[0;34m\u001b[0m\u001b[0m\n",
            "\u001b[0;32m/usr/local/lib/python3.11/dist-packages/pandas/core/frame.py\u001b[0m in \u001b[0;36m__getitem__\u001b[0;34m(self, key)\u001b[0m\n\u001b[1;32m   4100\u001b[0m             \u001b[0;32mif\u001b[0m \u001b[0mself\u001b[0m\u001b[0;34m.\u001b[0m\u001b[0mcolumns\u001b[0m\u001b[0;34m.\u001b[0m\u001b[0mnlevels\u001b[0m \u001b[0;34m>\u001b[0m \u001b[0;36m1\u001b[0m\u001b[0;34m:\u001b[0m\u001b[0;34m\u001b[0m\u001b[0;34m\u001b[0m\u001b[0m\n\u001b[1;32m   4101\u001b[0m                 \u001b[0;32mreturn\u001b[0m \u001b[0mself\u001b[0m\u001b[0;34m.\u001b[0m\u001b[0m_getitem_multilevel\u001b[0m\u001b[0;34m(\u001b[0m\u001b[0mkey\u001b[0m\u001b[0;34m)\u001b[0m\u001b[0;34m\u001b[0m\u001b[0;34m\u001b[0m\u001b[0m\n\u001b[0;32m-> 4102\u001b[0;31m             \u001b[0mindexer\u001b[0m \u001b[0;34m=\u001b[0m \u001b[0mself\u001b[0m\u001b[0;34m.\u001b[0m\u001b[0mcolumns\u001b[0m\u001b[0;34m.\u001b[0m\u001b[0mget_loc\u001b[0m\u001b[0;34m(\u001b[0m\u001b[0mkey\u001b[0m\u001b[0;34m)\u001b[0m\u001b[0;34m\u001b[0m\u001b[0;34m\u001b[0m\u001b[0m\n\u001b[0m\u001b[1;32m   4103\u001b[0m             \u001b[0;32mif\u001b[0m \u001b[0mis_integer\u001b[0m\u001b[0;34m(\u001b[0m\u001b[0mindexer\u001b[0m\u001b[0;34m)\u001b[0m\u001b[0;34m:\u001b[0m\u001b[0;34m\u001b[0m\u001b[0;34m\u001b[0m\u001b[0m\n\u001b[1;32m   4104\u001b[0m                 \u001b[0mindexer\u001b[0m \u001b[0;34m=\u001b[0m \u001b[0;34m[\u001b[0m\u001b[0mindexer\u001b[0m\u001b[0;34m]\u001b[0m\u001b[0;34m\u001b[0m\u001b[0;34m\u001b[0m\u001b[0m\n",
            "\u001b[0;32m/usr/local/lib/python3.11/dist-packages/pandas/core/indexes/base.py\u001b[0m in \u001b[0;36mget_loc\u001b[0;34m(self, key)\u001b[0m\n\u001b[1;32m   3810\u001b[0m             ):\n\u001b[1;32m   3811\u001b[0m                 \u001b[0;32mraise\u001b[0m \u001b[0mInvalidIndexError\u001b[0m\u001b[0;34m(\u001b[0m\u001b[0mkey\u001b[0m\u001b[0;34m)\u001b[0m\u001b[0;34m\u001b[0m\u001b[0;34m\u001b[0m\u001b[0m\n\u001b[0;32m-> 3812\u001b[0;31m             \u001b[0;32mraise\u001b[0m \u001b[0mKeyError\u001b[0m\u001b[0;34m(\u001b[0m\u001b[0mkey\u001b[0m\u001b[0;34m)\u001b[0m \u001b[0;32mfrom\u001b[0m \u001b[0merr\u001b[0m\u001b[0;34m\u001b[0m\u001b[0;34m\u001b[0m\u001b[0m\n\u001b[0m\u001b[1;32m   3813\u001b[0m         \u001b[0;32mexcept\u001b[0m \u001b[0mTypeError\u001b[0m\u001b[0;34m:\u001b[0m\u001b[0;34m\u001b[0m\u001b[0;34m\u001b[0m\u001b[0m\n\u001b[1;32m   3814\u001b[0m             \u001b[0;31m# If we have a listlike key, _check_indexing_error will raise\u001b[0m\u001b[0;34m\u001b[0m\u001b[0;34m\u001b[0m\u001b[0m\n",
            "\u001b[0;31mKeyError\u001b[0m: 'Discount Applied'"
          ]
        }
      ],
      "source": [
        "# Clientes que usan descuentos con mayor frecuencia de acuerdo al Age\n",
        "df. age"
      ]
    },
    {
      "cell_type": "markdown",
      "metadata": {
        "id": "NXufdcl1l0Ly"
      },
      "source": [
        "Podrías repetir el ejercicio segmentando por **Age** (definiendo rangos) o por **Location**."
      ]
    },
    {
      "cell_type": "markdown",
      "metadata": {
        "id": "ZkDqVejZl0Ly"
      },
      "source": [
        "### 5.9 ¿Cuántos clientes aprovechan códigos promocionales y cuál es su ratio LTV/CAC?\n",
        "El uso de promos puede modificar la rentabilidad."
      ]
    },
    {
      "cell_type": "code",
      "execution_count": null,
      "metadata": {
        "id": "qi9HX1KEl0Ly"
      },
      "outputs": [],
      "source": []
    },
    {
      "cell_type": "markdown",
      "metadata": {
        "id": "XIC-8-19l0Ly"
      },
      "source": [
        "### 5.10 ¿Cuál es la frecuencia de compra más común (Frequency of Purchases) y su LTV?\n",
        "Esto ayuda a ver si, por ejemplo, los clientes que compran semanalmente tienen un LTV más alto."
      ]
    },
    {
      "cell_type": "code",
      "execution_count": null,
      "metadata": {
        "id": "N8CEV1Xll0Ly"
      },
      "outputs": [],
      "source": []
    },
    {
      "cell_type": "markdown",
      "metadata": {
        "id": "oey87SkVl0Ly"
      },
      "source": [
        "### 5.11 ¿Cuál es la ubicación (Location) con mayor ratio LTV/CAC?"
      ]
    },
    {
      "cell_type": "code",
      "execution_count": null,
      "metadata": {
        "id": "QUT3x0RVl0Ly"
      },
      "outputs": [],
      "source": []
    },
    {
      "cell_type": "markdown",
      "metadata": {
        "id": "MaTl3Ycfl0Ly"
      },
      "source": [
        "### 5.12 Entre los clientes con `Previous Purchases` > X, ¿cuál es el gasto promedio y el LTV promedio?\n",
        "Define un umbral X según tu contexto. Por ejemplo, X = 20:"
      ]
    },
    {
      "cell_type": "code",
      "execution_count": null,
      "metadata": {
        "id": "Zg7ZSsSvl0Ly"
      },
      "outputs": [],
      "source": []
    },
    {
      "cell_type": "markdown",
      "metadata": {
        "id": "5cUtm7Y8l0Lz"
      },
      "source": [
        "## 6. Conclusiones\n",
        "\n",
        "En este Notebook, hemos abordado un **EDA orientado a negocio** en el que:\n",
        "1. **Identificamos** la base total de clientes y su edad promedio.\n",
        "2. **Calculamos** el CAC y LTV promedio, y la ratio LTV/CAC global.\n",
        "3. **Segregamos** por categorías, suscripción, uso de descuentos, métodos de pago, etc.\n",
        "4. **Resolvimos** preguntas de negocio que ayudan a:\n",
        "   - **Identificar** cuáles categorías o ubicaciones ofrecen mejor rentabilidad (ratio LTV/CAC).\n",
        "   - **Entender** si la suscripción eleva el LTV.\n",
        "   - **Explorar** la efectividad de promos y descuentos.\n",
        "   - **Diferenciar** frecuencias de compra y ver su impacto en LTV.\n",
        "   - **Focalizar** inversiones de marketing en los segmentos más prometedores.\n",
        "\n",
        "Este tipo de **análisis** proporciona las bases para **estrategias** de retención, adquisición y segmentación de clientes. ¡Espero que te sea útil para **generar valor** en tu negocio!"
      ]
    }
  ],
  "metadata": {
    "kernelspec": {
      "display_name": "Python 3",
      "language": "python",
      "name": "python3"
    },
    "language_info": {
      "codemirror_mode": {
        "name": "ipython",
        "version": 3
      },
      "file_extension": ".py",
      "mimetype": "text/x-python",
      "name": "python",
      "nbconvert_exporter": "python",
      "pygments_lexer": "ipython3",
      "version": "3.12.4"
    },
    "colab": {
      "provenance": []
    }
  },
  "nbformat": 4,
  "nbformat_minor": 0
}