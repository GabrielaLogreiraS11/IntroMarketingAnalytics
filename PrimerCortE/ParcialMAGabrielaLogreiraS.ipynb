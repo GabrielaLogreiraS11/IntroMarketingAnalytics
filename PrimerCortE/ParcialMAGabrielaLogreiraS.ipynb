{
  "cells": [
    {
      "cell_type": "markdown",
      "metadata": {
        "id": "favnf6_vZHN1"
      },
      "source": [
        "# Análisis de Datos de Seguros - Enfoque Step-by-Step y Caso de Negocio\n",
        "\n",
        "Este notebook está diseñado para que resuelvas problemas paso a paso utilizando Python (usando funciones básicas como .mean(), filtros, value_counts y groupby) y que puedas comparar los resultados con el objetivo propuesto. Además, se plantea un caso de negocio ficticio en el que se asigna un gasto en marketing (CAC) para evaluar la rentabilidad y tomar decisiones estratégicas.\n",
        "\n",
        "El objetivo es evaluar tu habilidad para:\n",
        "- Explorar y analizar datos en Python.\n",
        "- Resolver problemas de análisis paso a paso.\n",
        "- Comparar resultados con objetivos estratégicos.\n",
        "- Formular conclusiones y recomendaciones basadas en los datos.\n",
        "\n",
        "¡Comencemos!"
      ]
    },
    {
      "cell_type": "code",
      "source": [
        "!wget https://github.com/javierherrera1996/IntroMarketingAnalytics/raw/refs/heads/main/PrimerCorte/WA_Fn-UseC_-Marketing-Customer-Value-Analysis.csv.zip\n",
        "!unzip WA_Fn-UseC_-Marketing-Customer-Value-Analysis.csv.zip"
      ],
      "metadata": {
        "colab": {
          "base_uri": "https://localhost:8080/"
        },
        "id": "-Uz11EAcZJMF",
        "outputId": "4755edaf-abce-4a34-affb-e6203f88ff16"
      },
      "execution_count": 1,
      "outputs": [
        {
          "output_type": "stream",
          "name": "stdout",
          "text": [
            "--2025-03-12 23:17:11--  https://github.com/javierherrera1996/IntroMarketingAnalytics/raw/refs/heads/main/PrimerCorte/WA_Fn-UseC_-Marketing-Customer-Value-Analysis.csv.zip\n",
            "Resolving github.com (github.com)... 140.82.114.3\n",
            "Connecting to github.com (github.com)|140.82.114.3|:443... connected.\n",
            "HTTP request sent, awaiting response... 302 Found\n",
            "Location: https://raw.githubusercontent.com/javierherrera1996/IntroMarketingAnalytics/refs/heads/main/PrimerCorte/WA_Fn-UseC_-Marketing-Customer-Value-Analysis.csv.zip [following]\n",
            "--2025-03-12 23:17:11--  https://raw.githubusercontent.com/javierherrera1996/IntroMarketingAnalytics/refs/heads/main/PrimerCorte/WA_Fn-UseC_-Marketing-Customer-Value-Analysis.csv.zip\n",
            "Resolving raw.githubusercontent.com (raw.githubusercontent.com)... 185.199.108.133, 185.199.111.133, 185.199.109.133, ...\n",
            "Connecting to raw.githubusercontent.com (raw.githubusercontent.com)|185.199.108.133|:443... connected.\n",
            "HTTP request sent, awaiting response... 200 OK\n",
            "Length: 352796 (345K) [application/zip]\n",
            "Saving to: ‘WA_Fn-UseC_-Marketing-Customer-Value-Analysis.csv.zip’\n",
            "\n",
            "\r          WA_Fn-Use   0%[                    ]       0  --.-KB/s               \rWA_Fn-UseC_-Marketi 100%[===================>] 344.53K  --.-KB/s    in 0.008s  \n",
            "\n",
            "2025-03-12 23:17:11 (44.1 MB/s) - ‘WA_Fn-UseC_-Marketing-Customer-Value-Analysis.csv.zip’ saved [352796/352796]\n",
            "\n",
            "Archive:  WA_Fn-UseC_-Marketing-Customer-Value-Analysis.csv.zip\n",
            "  inflating: WA_Fn-UseC_-Marketing-Customer-Value-Analysis.csv  \n"
          ]
        }
      ]
    },
    {
      "cell_type": "markdown",
      "metadata": {
        "id": "rue7hNYKZHN4"
      },
      "source": [
        "## Paso 1: Exploración Inicial del Dataset\n",
        "1. Carga el dataset `WA_Fn-UseC_-Marketing-Customer-Value-Analysis.csv`.\n",
        "2. Revisa las primeras filas, dimensiones y la información general del dataset.\n",
        "\n",
        "_Observa la estructura de los datos: ¿Qué columnas tienes? ¿Se nota algún dato atípico?_"
      ]
    },
    {
      "cell_type": "markdown",
      "source": [
        "Las columnas que tengo son 24, es decir, las primeras que me salen en la tabla, los titulos.\n",
        "En cuanto a datos atípicos, se puede observar que algunos valores de \"Customer Lifetime Value\" y \"Income\" son significativamente diferentes de los demás. Por ejemplo, hay clientes con un valor de vida del cliente muy alto (como 12887.43) y otros con ingresos de 0. Esto podría indicar datos atípicos que merecen una revisión más profunda. texto en negrita"
      ],
      "metadata": {
        "id": "_bNlr6hG2EjS"
      }
    },
    {
      "cell_type": "code",
      "source": [
        "df.shape"
      ],
      "metadata": {
        "colab": {
          "base_uri": "https://localhost:8080/"
        },
        "id": "kqh7CqFbqnpb",
        "outputId": "15800576-8935-43bd-a952-1c484ee41f9f"
      },
      "execution_count": 3,
      "outputs": [
        {
          "output_type": "execute_result",
          "data": {
            "text/plain": [
              "(9134, 24)"
            ]
          },
          "metadata": {},
          "execution_count": 3
        }
      ]
    },
    {
      "cell_type": "code",
      "source": [
        "df.info"
      ],
      "metadata": {
        "colab": {
          "base_uri": "https://localhost:8080/",
          "height": 203
        },
        "id": "i8yg_kfprDDE",
        "outputId": "49ba7ad7-6b29-4513-dbd4-d781a8d33423"
      },
      "execution_count": 4,
      "outputs": [
        {
          "output_type": "execute_result",
          "data": {
            "text/plain": [
              "<bound method DataFrame.info of      Customer       State  Customer Lifetime Value Response  Coverage  \\\n",
              "0     BU79786  Washington              2763.519279       No     Basic   \n",
              "1     QZ44356     Arizona              6979.535903       No  Extended   \n",
              "2     AI49188      Nevada             12887.431650       No   Premium   \n",
              "3     WW63253  California              7645.861827       No     Basic   \n",
              "4     HB64268  Washington              2813.692575       No     Basic   \n",
              "...       ...         ...                      ...      ...       ...   \n",
              "9129  LA72316  California             23405.987980       No     Basic   \n",
              "9130  PK87824  California              3096.511217      Yes  Extended   \n",
              "9131  TD14365  California              8163.890428       No  Extended   \n",
              "9132  UP19263  California              7524.442436       No  Extended   \n",
              "9133  Y167826  California              2611.836866       No  Extended   \n",
              "\n",
              "     Education Effective To Date EmploymentStatus Gender  Income  \\\n",
              "0     Bachelor           2/24/11         Employed      F   56274   \n",
              "1     Bachelor           1/31/11       Unemployed      F       0   \n",
              "2     Bachelor           2/19/11         Employed      F   48767   \n",
              "3     Bachelor           1/20/11       Unemployed      M       0   \n",
              "4     Bachelor            2/3/11         Employed      M   43836   \n",
              "...        ...               ...              ...    ...     ...   \n",
              "9129  Bachelor           2/10/11         Employed      M   71941   \n",
              "9130   College           2/12/11         Employed      F   21604   \n",
              "9131  Bachelor            2/6/11       Unemployed      M       0   \n",
              "9132   College            2/3/11         Employed      M   21941   \n",
              "9133   College           2/14/11       Unemployed      M       0   \n",
              "\n",
              "     Location Code Marital Status  Monthly Premium Auto  \\\n",
              "0         Suburban        Married                    69   \n",
              "1         Suburban         Single                    94   \n",
              "2         Suburban        Married                   108   \n",
              "3         Suburban        Married                   106   \n",
              "4            Rural         Single                    73   \n",
              "...            ...            ...                   ...   \n",
              "9129         Urban        Married                    73   \n",
              "9130      Suburban       Divorced                    79   \n",
              "9131      Suburban         Single                    85   \n",
              "9132      Suburban        Married                    96   \n",
              "9133      Suburban         Single                    77   \n",
              "\n",
              "      Months Since Last Claim  Months Since Policy Inception  \\\n",
              "0                          32                              5   \n",
              "1                          13                             42   \n",
              "2                          18                             38   \n",
              "3                          18                             65   \n",
              "4                          12                             44   \n",
              "...                       ...                            ...   \n",
              "9129                       18                             89   \n",
              "9130                       14                             28   \n",
              "9131                        9                             37   \n",
              "9132                       34                              3   \n",
              "9133                        3                             90   \n",
              "\n",
              "      Number of Open Complaints  Number of Policies     Policy Type  \\\n",
              "0                             0                   1  Corporate Auto   \n",
              "1                             0                   8   Personal Auto   \n",
              "2                             0                   2   Personal Auto   \n",
              "3                             0                   7  Corporate Auto   \n",
              "4                             0                   1   Personal Auto   \n",
              "...                         ...                 ...             ...   \n",
              "9129                          0                   2   Personal Auto   \n",
              "9130                          0                   1  Corporate Auto   \n",
              "9131                          3                   2  Corporate Auto   \n",
              "9132                          0                   3   Personal Auto   \n",
              "9133                          0                   1  Corporate Auto   \n",
              "\n",
              "            Policy Renew Offer Type Sales Channel  Total Claim Amount  \\\n",
              "0     Corporate L3           Offer1         Agent          384.811147   \n",
              "1      Personal L3           Offer3         Agent         1131.464935   \n",
              "2      Personal L3           Offer1         Agent          566.472247   \n",
              "3     Corporate L2           Offer1   Call Center          529.881344   \n",
              "4      Personal L1           Offer1         Agent          138.130879   \n",
              "...            ...              ...           ...                 ...   \n",
              "9129   Personal L1           Offer2           Web          198.234764   \n",
              "9130  Corporate L3           Offer1        Branch          379.200000   \n",
              "9131  Corporate L2           Offer1        Branch          790.784983   \n",
              "9132   Personal L2           Offer3        Branch          691.200000   \n",
              "9133  Corporate L3           Offer4   Call Center          369.600000   \n",
              "\n",
              "      Vehicle Class Vehicle Size  \n",
              "0      Two-Door Car      Medsize  \n",
              "1     Four-Door Car      Medsize  \n",
              "2      Two-Door Car      Medsize  \n",
              "3               SUV      Medsize  \n",
              "4     Four-Door Car      Medsize  \n",
              "...             ...          ...  \n",
              "9129  Four-Door Car      Medsize  \n",
              "9130  Four-Door Car      Medsize  \n",
              "9131  Four-Door Car      Medsize  \n",
              "9132  Four-Door Car        Large  \n",
              "9133   Two-Door Car      Medsize  \n",
              "\n",
              "[9134 rows x 24 columns]>"
            ],
            "text/html": [
              "<div style=\"max-width:800px; border: 1px solid var(--colab-border-color);\"><style>\n",
              "      pre.function-repr-contents {\n",
              "        overflow-x: auto;\n",
              "        padding: 8px 12px;\n",
              "        max-height: 500px;\n",
              "      }\n",
              "\n",
              "      pre.function-repr-contents.function-repr-contents-collapsed {\n",
              "        cursor: pointer;\n",
              "        max-height: 100px;\n",
              "      }\n",
              "    </style>\n",
              "    <pre style=\"white-space: initial; background:\n",
              "         var(--colab-secondary-surface-color); padding: 8px 12px;\n",
              "         border-bottom: 1px solid var(--colab-border-color);\"><b>pandas.core.frame.DataFrame.info</b><br/>def info(verbose: bool | None=None, buf: WriteBuffer[str] | None=None, max_cols: int | None=None, memory_usage: bool | str | None=None, show_counts: bool | None=None) -&gt; None</pre><pre class=\"function-repr-contents function-repr-contents-collapsed\" style=\"\"><a class=\"filepath\" style=\"display:none\" href=\"#\">/usr/local/lib/python3.11/dist-packages/pandas/core/frame.py</a>Print a concise summary of a DataFrame.\n",
              "\n",
              "This method prints information about a DataFrame including\n",
              "the index dtype and columns, non-null values and memory usage.\n",
              "\n",
              "Parameters\n",
              "----------\n",
              "verbose : bool, optional\n",
              "    Whether to print the full summary. By default, the setting in\n",
              "    ``pandas.options.display.max_info_columns`` is followed.\n",
              "buf : writable buffer, defaults to sys.stdout\n",
              "    Where to send the output. By default, the output is printed to\n",
              "    sys.stdout. Pass a writable buffer if you need to further process\n",
              "    the output.\n",
              "max_cols : int, optional\n",
              "    When to switch from the verbose to the truncated output. If the\n",
              "    DataFrame has more than `max_cols` columns, the truncated output\n",
              "    is used. By default, the setting in\n",
              "    ``pandas.options.display.max_info_columns`` is used.\n",
              "memory_usage : bool, str, optional\n",
              "    Specifies whether total memory usage of the DataFrame\n",
              "    elements (including the index) should be displayed. By default,\n",
              "    this follows the ``pandas.options.display.memory_usage`` setting.\n",
              "\n",
              "    True always show memory usage. False never shows memory usage.\n",
              "    A value of &#x27;deep&#x27; is equivalent to &quot;True with deep introspection&quot;.\n",
              "    Memory usage is shown in human-readable units (base-2\n",
              "    representation). Without deep introspection a memory estimation is\n",
              "    made based in column dtype and number of rows assuming values\n",
              "    consume the same memory amount for corresponding dtypes. With deep\n",
              "    memory introspection, a real memory usage calculation is performed\n",
              "    at the cost of computational resources. See the\n",
              "    :ref:`Frequently Asked Questions &lt;df-memory-usage&gt;` for more\n",
              "    details.\n",
              "show_counts : bool, optional\n",
              "    Whether to show the non-null counts. By default, this is shown\n",
              "    only if the DataFrame is smaller than\n",
              "    ``pandas.options.display.max_info_rows`` and\n",
              "    ``pandas.options.display.max_info_columns``. A value of True always\n",
              "    shows the counts, and False never shows the counts.\n",
              "\n",
              "Returns\n",
              "-------\n",
              "None\n",
              "    This method prints a summary of a DataFrame and returns None.\n",
              "\n",
              "See Also\n",
              "--------\n",
              "DataFrame.describe: Generate descriptive statistics of DataFrame\n",
              "    columns.\n",
              "DataFrame.memory_usage: Memory usage of DataFrame columns.\n",
              "\n",
              "Examples\n",
              "--------\n",
              "&gt;&gt;&gt; int_values = [1, 2, 3, 4, 5]\n",
              "&gt;&gt;&gt; text_values = [&#x27;alpha&#x27;, &#x27;beta&#x27;, &#x27;gamma&#x27;, &#x27;delta&#x27;, &#x27;epsilon&#x27;]\n",
              "&gt;&gt;&gt; float_values = [0.0, 0.25, 0.5, 0.75, 1.0]\n",
              "&gt;&gt;&gt; df = pd.DataFrame({&quot;int_col&quot;: int_values, &quot;text_col&quot;: text_values,\n",
              "...                   &quot;float_col&quot;: float_values})\n",
              "&gt;&gt;&gt; df\n",
              "    int_col text_col  float_col\n",
              "0        1    alpha       0.00\n",
              "1        2     beta       0.25\n",
              "2        3    gamma       0.50\n",
              "3        4    delta       0.75\n",
              "4        5  epsilon       1.00\n",
              "\n",
              "Prints information of all columns:\n",
              "\n",
              "&gt;&gt;&gt; df.info(verbose=True)\n",
              "&lt;class &#x27;pandas.core.frame.DataFrame&#x27;&gt;\n",
              "RangeIndex: 5 entries, 0 to 4\n",
              "Data columns (total 3 columns):\n",
              " #   Column     Non-Null Count  Dtype\n",
              "---  ------     --------------  -----\n",
              " 0   int_col    5 non-null      int64\n",
              " 1   text_col   5 non-null      object\n",
              " 2   float_col  5 non-null      float64\n",
              "dtypes: float64(1), int64(1), object(1)\n",
              "memory usage: 248.0+ bytes\n",
              "\n",
              "Prints a summary of columns count and its dtypes but not per column\n",
              "information:\n",
              "\n",
              "&gt;&gt;&gt; df.info(verbose=False)\n",
              "&lt;class &#x27;pandas.core.frame.DataFrame&#x27;&gt;\n",
              "RangeIndex: 5 entries, 0 to 4\n",
              "Columns: 3 entries, int_col to float_col\n",
              "dtypes: float64(1), int64(1), object(1)\n",
              "memory usage: 248.0+ bytes\n",
              "\n",
              "Pipe output of DataFrame.info to buffer instead of sys.stdout, get\n",
              "buffer content and writes to a text file:\n",
              "\n",
              "&gt;&gt;&gt; import io\n",
              "&gt;&gt;&gt; buffer = io.StringIO()\n",
              "&gt;&gt;&gt; df.info(buf=buffer)\n",
              "&gt;&gt;&gt; s = buffer.getvalue()\n",
              "&gt;&gt;&gt; with open(&quot;df_info.txt&quot;, &quot;w&quot;,\n",
              "...           encoding=&quot;utf-8&quot;) as f:  # doctest: +SKIP\n",
              "...     f.write(s)\n",
              "260\n",
              "\n",
              "The `memory_usage` parameter allows deep introspection mode, specially\n",
              "useful for big DataFrames and fine-tune memory optimization:\n",
              "\n",
              "&gt;&gt;&gt; random_strings_array = np.random.choice([&#x27;a&#x27;, &#x27;b&#x27;, &#x27;c&#x27;], 10 ** 6)\n",
              "&gt;&gt;&gt; df = pd.DataFrame({\n",
              "...     &#x27;column_1&#x27;: np.random.choice([&#x27;a&#x27;, &#x27;b&#x27;, &#x27;c&#x27;], 10 ** 6),\n",
              "...     &#x27;column_2&#x27;: np.random.choice([&#x27;a&#x27;, &#x27;b&#x27;, &#x27;c&#x27;], 10 ** 6),\n",
              "...     &#x27;column_3&#x27;: np.random.choice([&#x27;a&#x27;, &#x27;b&#x27;, &#x27;c&#x27;], 10 ** 6)\n",
              "... })\n",
              "&gt;&gt;&gt; df.info()\n",
              "&lt;class &#x27;pandas.core.frame.DataFrame&#x27;&gt;\n",
              "RangeIndex: 1000000 entries, 0 to 999999\n",
              "Data columns (total 3 columns):\n",
              " #   Column    Non-Null Count    Dtype\n",
              "---  ------    --------------    -----\n",
              " 0   column_1  1000000 non-null  object\n",
              " 1   column_2  1000000 non-null  object\n",
              " 2   column_3  1000000 non-null  object\n",
              "dtypes: object(3)\n",
              "memory usage: 22.9+ MB\n",
              "\n",
              "&gt;&gt;&gt; df.info(memory_usage=&#x27;deep&#x27;)\n",
              "&lt;class &#x27;pandas.core.frame.DataFrame&#x27;&gt;\n",
              "RangeIndex: 1000000 entries, 0 to 999999\n",
              "Data columns (total 3 columns):\n",
              " #   Column    Non-Null Count    Dtype\n",
              "---  ------    --------------    -----\n",
              " 0   column_1  1000000 non-null  object\n",
              " 1   column_2  1000000 non-null  object\n",
              " 2   column_3  1000000 non-null  object\n",
              "dtypes: object(3)\n",
              "memory usage: 165.9 MB</pre>\n",
              "      <script>\n",
              "      if (google.colab.kernel.accessAllowed && google.colab.files && google.colab.files.view) {\n",
              "        for (const element of document.querySelectorAll('.filepath')) {\n",
              "          element.style.display = 'block'\n",
              "          element.onclick = (event) => {\n",
              "            event.preventDefault();\n",
              "            event.stopPropagation();\n",
              "            google.colab.files.view(element.textContent, 3646);\n",
              "          };\n",
              "        }\n",
              "      }\n",
              "      for (const element of document.querySelectorAll('.function-repr-contents')) {\n",
              "        element.onclick = (event) => {\n",
              "          event.preventDefault();\n",
              "          event.stopPropagation();\n",
              "          element.classList.toggle('function-repr-contents-collapsed');\n",
              "        };\n",
              "      }\n",
              "      </script>\n",
              "      </div>"
            ]
          },
          "metadata": {},
          "execution_count": 4
        }
      ]
    },
    {
      "cell_type": "code",
      "execution_count": 2,
      "metadata": {
        "id": "kFhepnyQZHN5",
        "colab": {
          "base_uri": "https://localhost:8080/",
          "height": 434
        },
        "outputId": "cb072c06-80b0-480b-f081-036cd08c70f0"
      },
      "outputs": [
        {
          "output_type": "execute_result",
          "data": {
            "text/plain": [
              "  Customer       State  Customer Lifetime Value Response  Coverage Education  \\\n",
              "0  BU79786  Washington              2763.519279       No     Basic  Bachelor   \n",
              "1  QZ44356     Arizona              6979.535903       No  Extended  Bachelor   \n",
              "2  AI49188      Nevada             12887.431650       No   Premium  Bachelor   \n",
              "3  WW63253  California              7645.861827       No     Basic  Bachelor   \n",
              "4  HB64268  Washington              2813.692575       No     Basic  Bachelor   \n",
              "\n",
              "  Effective To Date EmploymentStatus Gender  Income Location Code  \\\n",
              "0           2/24/11         Employed      F   56274      Suburban   \n",
              "1           1/31/11       Unemployed      F       0      Suburban   \n",
              "2           2/19/11         Employed      F   48767      Suburban   \n",
              "3           1/20/11       Unemployed      M       0      Suburban   \n",
              "4            2/3/11         Employed      M   43836         Rural   \n",
              "\n",
              "  Marital Status  Monthly Premium Auto  Months Since Last Claim  \\\n",
              "0        Married                    69                       32   \n",
              "1         Single                    94                       13   \n",
              "2        Married                   108                       18   \n",
              "3        Married                   106                       18   \n",
              "4         Single                    73                       12   \n",
              "\n",
              "   Months Since Policy Inception  Number of Open Complaints  \\\n",
              "0                              5                          0   \n",
              "1                             42                          0   \n",
              "2                             38                          0   \n",
              "3                             65                          0   \n",
              "4                             44                          0   \n",
              "\n",
              "   Number of Policies     Policy Type        Policy Renew Offer Type  \\\n",
              "0                   1  Corporate Auto  Corporate L3           Offer1   \n",
              "1                   8   Personal Auto   Personal L3           Offer3   \n",
              "2                   2   Personal Auto   Personal L3           Offer1   \n",
              "3                   7  Corporate Auto  Corporate L2           Offer1   \n",
              "4                   1   Personal Auto   Personal L1           Offer1   \n",
              "\n",
              "  Sales Channel  Total Claim Amount  Vehicle Class Vehicle Size  \n",
              "0         Agent          384.811147   Two-Door Car      Medsize  \n",
              "1         Agent         1131.464935  Four-Door Car      Medsize  \n",
              "2         Agent          566.472247   Two-Door Car      Medsize  \n",
              "3   Call Center          529.881344            SUV      Medsize  \n",
              "4         Agent          138.130879  Four-Door Car      Medsize  "
            ],
            "text/html": [
              "\n",
              "  <div id=\"df-de3f5e7f-f055-40f7-8896-ee9b1f67cb3c\" class=\"colab-df-container\">\n",
              "    <div>\n",
              "<style scoped>\n",
              "    .dataframe tbody tr th:only-of-type {\n",
              "        vertical-align: middle;\n",
              "    }\n",
              "\n",
              "    .dataframe tbody tr th {\n",
              "        vertical-align: top;\n",
              "    }\n",
              "\n",
              "    .dataframe thead th {\n",
              "        text-align: right;\n",
              "    }\n",
              "</style>\n",
              "<table border=\"1\" class=\"dataframe\">\n",
              "  <thead>\n",
              "    <tr style=\"text-align: right;\">\n",
              "      <th></th>\n",
              "      <th>Customer</th>\n",
              "      <th>State</th>\n",
              "      <th>Customer Lifetime Value</th>\n",
              "      <th>Response</th>\n",
              "      <th>Coverage</th>\n",
              "      <th>Education</th>\n",
              "      <th>Effective To Date</th>\n",
              "      <th>EmploymentStatus</th>\n",
              "      <th>Gender</th>\n",
              "      <th>Income</th>\n",
              "      <th>Location Code</th>\n",
              "      <th>Marital Status</th>\n",
              "      <th>Monthly Premium Auto</th>\n",
              "      <th>Months Since Last Claim</th>\n",
              "      <th>Months Since Policy Inception</th>\n",
              "      <th>Number of Open Complaints</th>\n",
              "      <th>Number of Policies</th>\n",
              "      <th>Policy Type</th>\n",
              "      <th>Policy</th>\n",
              "      <th>Renew Offer Type</th>\n",
              "      <th>Sales Channel</th>\n",
              "      <th>Total Claim Amount</th>\n",
              "      <th>Vehicle Class</th>\n",
              "      <th>Vehicle Size</th>\n",
              "    </tr>\n",
              "  </thead>\n",
              "  <tbody>\n",
              "    <tr>\n",
              "      <th>0</th>\n",
              "      <td>BU79786</td>\n",
              "      <td>Washington</td>\n",
              "      <td>2763.519279</td>\n",
              "      <td>No</td>\n",
              "      <td>Basic</td>\n",
              "      <td>Bachelor</td>\n",
              "      <td>2/24/11</td>\n",
              "      <td>Employed</td>\n",
              "      <td>F</td>\n",
              "      <td>56274</td>\n",
              "      <td>Suburban</td>\n",
              "      <td>Married</td>\n",
              "      <td>69</td>\n",
              "      <td>32</td>\n",
              "      <td>5</td>\n",
              "      <td>0</td>\n",
              "      <td>1</td>\n",
              "      <td>Corporate Auto</td>\n",
              "      <td>Corporate L3</td>\n",
              "      <td>Offer1</td>\n",
              "      <td>Agent</td>\n",
              "      <td>384.811147</td>\n",
              "      <td>Two-Door Car</td>\n",
              "      <td>Medsize</td>\n",
              "    </tr>\n",
              "    <tr>\n",
              "      <th>1</th>\n",
              "      <td>QZ44356</td>\n",
              "      <td>Arizona</td>\n",
              "      <td>6979.535903</td>\n",
              "      <td>No</td>\n",
              "      <td>Extended</td>\n",
              "      <td>Bachelor</td>\n",
              "      <td>1/31/11</td>\n",
              "      <td>Unemployed</td>\n",
              "      <td>F</td>\n",
              "      <td>0</td>\n",
              "      <td>Suburban</td>\n",
              "      <td>Single</td>\n",
              "      <td>94</td>\n",
              "      <td>13</td>\n",
              "      <td>42</td>\n",
              "      <td>0</td>\n",
              "      <td>8</td>\n",
              "      <td>Personal Auto</td>\n",
              "      <td>Personal L3</td>\n",
              "      <td>Offer3</td>\n",
              "      <td>Agent</td>\n",
              "      <td>1131.464935</td>\n",
              "      <td>Four-Door Car</td>\n",
              "      <td>Medsize</td>\n",
              "    </tr>\n",
              "    <tr>\n",
              "      <th>2</th>\n",
              "      <td>AI49188</td>\n",
              "      <td>Nevada</td>\n",
              "      <td>12887.431650</td>\n",
              "      <td>No</td>\n",
              "      <td>Premium</td>\n",
              "      <td>Bachelor</td>\n",
              "      <td>2/19/11</td>\n",
              "      <td>Employed</td>\n",
              "      <td>F</td>\n",
              "      <td>48767</td>\n",
              "      <td>Suburban</td>\n",
              "      <td>Married</td>\n",
              "      <td>108</td>\n",
              "      <td>18</td>\n",
              "      <td>38</td>\n",
              "      <td>0</td>\n",
              "      <td>2</td>\n",
              "      <td>Personal Auto</td>\n",
              "      <td>Personal L3</td>\n",
              "      <td>Offer1</td>\n",
              "      <td>Agent</td>\n",
              "      <td>566.472247</td>\n",
              "      <td>Two-Door Car</td>\n",
              "      <td>Medsize</td>\n",
              "    </tr>\n",
              "    <tr>\n",
              "      <th>3</th>\n",
              "      <td>WW63253</td>\n",
              "      <td>California</td>\n",
              "      <td>7645.861827</td>\n",
              "      <td>No</td>\n",
              "      <td>Basic</td>\n",
              "      <td>Bachelor</td>\n",
              "      <td>1/20/11</td>\n",
              "      <td>Unemployed</td>\n",
              "      <td>M</td>\n",
              "      <td>0</td>\n",
              "      <td>Suburban</td>\n",
              "      <td>Married</td>\n",
              "      <td>106</td>\n",
              "      <td>18</td>\n",
              "      <td>65</td>\n",
              "      <td>0</td>\n",
              "      <td>7</td>\n",
              "      <td>Corporate Auto</td>\n",
              "      <td>Corporate L2</td>\n",
              "      <td>Offer1</td>\n",
              "      <td>Call Center</td>\n",
              "      <td>529.881344</td>\n",
              "      <td>SUV</td>\n",
              "      <td>Medsize</td>\n",
              "    </tr>\n",
              "    <tr>\n",
              "      <th>4</th>\n",
              "      <td>HB64268</td>\n",
              "      <td>Washington</td>\n",
              "      <td>2813.692575</td>\n",
              "      <td>No</td>\n",
              "      <td>Basic</td>\n",
              "      <td>Bachelor</td>\n",
              "      <td>2/3/11</td>\n",
              "      <td>Employed</td>\n",
              "      <td>M</td>\n",
              "      <td>43836</td>\n",
              "      <td>Rural</td>\n",
              "      <td>Single</td>\n",
              "      <td>73</td>\n",
              "      <td>12</td>\n",
              "      <td>44</td>\n",
              "      <td>0</td>\n",
              "      <td>1</td>\n",
              "      <td>Personal Auto</td>\n",
              "      <td>Personal L1</td>\n",
              "      <td>Offer1</td>\n",
              "      <td>Agent</td>\n",
              "      <td>138.130879</td>\n",
              "      <td>Four-Door Car</td>\n",
              "      <td>Medsize</td>\n",
              "    </tr>\n",
              "  </tbody>\n",
              "</table>\n",
              "</div>\n",
              "    <div class=\"colab-df-buttons\">\n",
              "\n",
              "  <div class=\"colab-df-container\">\n",
              "    <button class=\"colab-df-convert\" onclick=\"convertToInteractive('df-de3f5e7f-f055-40f7-8896-ee9b1f67cb3c')\"\n",
              "            title=\"Convert this dataframe to an interactive table.\"\n",
              "            style=\"display:none;\">\n",
              "\n",
              "  <svg xmlns=\"http://www.w3.org/2000/svg\" height=\"24px\" viewBox=\"0 -960 960 960\">\n",
              "    <path d=\"M120-120v-720h720v720H120Zm60-500h600v-160H180v160Zm220 220h160v-160H400v160Zm0 220h160v-160H400v160ZM180-400h160v-160H180v160Zm440 0h160v-160H620v160ZM180-180h160v-160H180v160Zm440 0h160v-160H620v160Z\"/>\n",
              "  </svg>\n",
              "    </button>\n",
              "\n",
              "  <style>\n",
              "    .colab-df-container {\n",
              "      display:flex;\n",
              "      gap: 12px;\n",
              "    }\n",
              "\n",
              "    .colab-df-convert {\n",
              "      background-color: #E8F0FE;\n",
              "      border: none;\n",
              "      border-radius: 50%;\n",
              "      cursor: pointer;\n",
              "      display: none;\n",
              "      fill: #1967D2;\n",
              "      height: 32px;\n",
              "      padding: 0 0 0 0;\n",
              "      width: 32px;\n",
              "    }\n",
              "\n",
              "    .colab-df-convert:hover {\n",
              "      background-color: #E2EBFA;\n",
              "      box-shadow: 0px 1px 2px rgba(60, 64, 67, 0.3), 0px 1px 3px 1px rgba(60, 64, 67, 0.15);\n",
              "      fill: #174EA6;\n",
              "    }\n",
              "\n",
              "    .colab-df-buttons div {\n",
              "      margin-bottom: 4px;\n",
              "    }\n",
              "\n",
              "    [theme=dark] .colab-df-convert {\n",
              "      background-color: #3B4455;\n",
              "      fill: #D2E3FC;\n",
              "    }\n",
              "\n",
              "    [theme=dark] .colab-df-convert:hover {\n",
              "      background-color: #434B5C;\n",
              "      box-shadow: 0px 1px 3px 1px rgba(0, 0, 0, 0.15);\n",
              "      filter: drop-shadow(0px 1px 2px rgba(0, 0, 0, 0.3));\n",
              "      fill: #FFFFFF;\n",
              "    }\n",
              "  </style>\n",
              "\n",
              "    <script>\n",
              "      const buttonEl =\n",
              "        document.querySelector('#df-de3f5e7f-f055-40f7-8896-ee9b1f67cb3c button.colab-df-convert');\n",
              "      buttonEl.style.display =\n",
              "        google.colab.kernel.accessAllowed ? 'block' : 'none';\n",
              "\n",
              "      async function convertToInteractive(key) {\n",
              "        const element = document.querySelector('#df-de3f5e7f-f055-40f7-8896-ee9b1f67cb3c');\n",
              "        const dataTable =\n",
              "          await google.colab.kernel.invokeFunction('convertToInteractive',\n",
              "                                                    [key], {});\n",
              "        if (!dataTable) return;\n",
              "\n",
              "        const docLinkHtml = 'Like what you see? Visit the ' +\n",
              "          '<a target=\"_blank\" href=https://colab.research.google.com/notebooks/data_table.ipynb>data table notebook</a>'\n",
              "          + ' to learn more about interactive tables.';\n",
              "        element.innerHTML = '';\n",
              "        dataTable['output_type'] = 'display_data';\n",
              "        await google.colab.output.renderOutput(dataTable, element);\n",
              "        const docLink = document.createElement('div');\n",
              "        docLink.innerHTML = docLinkHtml;\n",
              "        element.appendChild(docLink);\n",
              "      }\n",
              "    </script>\n",
              "  </div>\n",
              "\n",
              "\n",
              "<div id=\"df-4b61ab16-3610-4783-b16c-153f84703794\">\n",
              "  <button class=\"colab-df-quickchart\" onclick=\"quickchart('df-4b61ab16-3610-4783-b16c-153f84703794')\"\n",
              "            title=\"Suggest charts\"\n",
              "            style=\"display:none;\">\n",
              "\n",
              "<svg xmlns=\"http://www.w3.org/2000/svg\" height=\"24px\"viewBox=\"0 0 24 24\"\n",
              "     width=\"24px\">\n",
              "    <g>\n",
              "        <path d=\"M19 3H5c-1.1 0-2 .9-2 2v14c0 1.1.9 2 2 2h14c1.1 0 2-.9 2-2V5c0-1.1-.9-2-2-2zM9 17H7v-7h2v7zm4 0h-2V7h2v10zm4 0h-2v-4h2v4z\"/>\n",
              "    </g>\n",
              "</svg>\n",
              "  </button>\n",
              "\n",
              "<style>\n",
              "  .colab-df-quickchart {\n",
              "      --bg-color: #E8F0FE;\n",
              "      --fill-color: #1967D2;\n",
              "      --hover-bg-color: #E2EBFA;\n",
              "      --hover-fill-color: #174EA6;\n",
              "      --disabled-fill-color: #AAA;\n",
              "      --disabled-bg-color: #DDD;\n",
              "  }\n",
              "\n",
              "  [theme=dark] .colab-df-quickchart {\n",
              "      --bg-color: #3B4455;\n",
              "      --fill-color: #D2E3FC;\n",
              "      --hover-bg-color: #434B5C;\n",
              "      --hover-fill-color: #FFFFFF;\n",
              "      --disabled-bg-color: #3B4455;\n",
              "      --disabled-fill-color: #666;\n",
              "  }\n",
              "\n",
              "  .colab-df-quickchart {\n",
              "    background-color: var(--bg-color);\n",
              "    border: none;\n",
              "    border-radius: 50%;\n",
              "    cursor: pointer;\n",
              "    display: none;\n",
              "    fill: var(--fill-color);\n",
              "    height: 32px;\n",
              "    padding: 0;\n",
              "    width: 32px;\n",
              "  }\n",
              "\n",
              "  .colab-df-quickchart:hover {\n",
              "    background-color: var(--hover-bg-color);\n",
              "    box-shadow: 0 1px 2px rgba(60, 64, 67, 0.3), 0 1px 3px 1px rgba(60, 64, 67, 0.15);\n",
              "    fill: var(--button-hover-fill-color);\n",
              "  }\n",
              "\n",
              "  .colab-df-quickchart-complete:disabled,\n",
              "  .colab-df-quickchart-complete:disabled:hover {\n",
              "    background-color: var(--disabled-bg-color);\n",
              "    fill: var(--disabled-fill-color);\n",
              "    box-shadow: none;\n",
              "  }\n",
              "\n",
              "  .colab-df-spinner {\n",
              "    border: 2px solid var(--fill-color);\n",
              "    border-color: transparent;\n",
              "    border-bottom-color: var(--fill-color);\n",
              "    animation:\n",
              "      spin 1s steps(1) infinite;\n",
              "  }\n",
              "\n",
              "  @keyframes spin {\n",
              "    0% {\n",
              "      border-color: transparent;\n",
              "      border-bottom-color: var(--fill-color);\n",
              "      border-left-color: var(--fill-color);\n",
              "    }\n",
              "    20% {\n",
              "      border-color: transparent;\n",
              "      border-left-color: var(--fill-color);\n",
              "      border-top-color: var(--fill-color);\n",
              "    }\n",
              "    30% {\n",
              "      border-color: transparent;\n",
              "      border-left-color: var(--fill-color);\n",
              "      border-top-color: var(--fill-color);\n",
              "      border-right-color: var(--fill-color);\n",
              "    }\n",
              "    40% {\n",
              "      border-color: transparent;\n",
              "      border-right-color: var(--fill-color);\n",
              "      border-top-color: var(--fill-color);\n",
              "    }\n",
              "    60% {\n",
              "      border-color: transparent;\n",
              "      border-right-color: var(--fill-color);\n",
              "    }\n",
              "    80% {\n",
              "      border-color: transparent;\n",
              "      border-right-color: var(--fill-color);\n",
              "      border-bottom-color: var(--fill-color);\n",
              "    }\n",
              "    90% {\n",
              "      border-color: transparent;\n",
              "      border-bottom-color: var(--fill-color);\n",
              "    }\n",
              "  }\n",
              "</style>\n",
              "\n",
              "  <script>\n",
              "    async function quickchart(key) {\n",
              "      const quickchartButtonEl =\n",
              "        document.querySelector('#' + key + ' button');\n",
              "      quickchartButtonEl.disabled = true;  // To prevent multiple clicks.\n",
              "      quickchartButtonEl.classList.add('colab-df-spinner');\n",
              "      try {\n",
              "        const charts = await google.colab.kernel.invokeFunction(\n",
              "            'suggestCharts', [key], {});\n",
              "      } catch (error) {\n",
              "        console.error('Error during call to suggestCharts:', error);\n",
              "      }\n",
              "      quickchartButtonEl.classList.remove('colab-df-spinner');\n",
              "      quickchartButtonEl.classList.add('colab-df-quickchart-complete');\n",
              "    }\n",
              "    (() => {\n",
              "      let quickchartButtonEl =\n",
              "        document.querySelector('#df-4b61ab16-3610-4783-b16c-153f84703794 button');\n",
              "      quickchartButtonEl.style.display =\n",
              "        google.colab.kernel.accessAllowed ? 'block' : 'none';\n",
              "    })();\n",
              "  </script>\n",
              "</div>\n",
              "\n",
              "    </div>\n",
              "  </div>\n"
            ],
            "application/vnd.google.colaboratory.intrinsic+json": {
              "type": "dataframe",
              "variable_name": "df"
            }
          },
          "metadata": {},
          "execution_count": 2
        }
      ],
      "source": [
        "# Cargar el dataset y ver primeras filas\n",
        "import pandas as pd\n",
        "import numpy as np\n",
        "\n",
        "df = pd.read_csv('WA_Fn-UseC_-Marketing-Customer-Value-Analysis.csv')\n",
        "pd.set_option('display.max_columns', None)\n",
        "\n",
        "# Mostramos las primeras filas para verificar\n",
        "df.head()\n"
      ]
    },
    {
      "cell_type": "markdown",
      "metadata": {
        "id": "QfxdKxY6ZHN5"
      },
      "source": [
        "## Paso 2: Análisis del Customer Lifetime Value (CLV)\n",
        "1. Calcula el CLV promedio y su desviación estándar.\n",
        "2. Reflexiona: ¿Qué indica una alta desviación? ¿Podrían existir segmentos de clientes con comportamientos muy distintos?"
      ]
    },
    {
      "cell_type": "markdown",
      "source": [
        "Reflexión sobre el Resultado\n",
        "Interpretación del CLV Promedio (8004.94):\n",
        "\n",
        "Un CLV promedio de aproximadamente 8004.94 indica que, en promedio, cada cliente aporta un valor significativo a la empresa a lo largo de su vida útil. Esto sugiere que la mayoría de los clientes tienen el potencial de ser rentables, lo cual es un buen signo para la salud financiera de la empresa.\n",
        "Interpretación de la Desviación Estándar (6870.97):\n",
        "\n",
        "La desviación estándar de 6870.97 es bastante alta en comparación con el promedio. Esto indica que hay una gran variabilidad en los valores del CLV entre los diferentes clientes. En otras palabras, algunos clientes generan un CLV mucho más alto que la media, mientras que otros tienen un CLV significativamente más bajo."
      ],
      "metadata": {
        "id": "cPR8mzPE2wlk"
      }
    },
    {
      "cell_type": "code",
      "execution_count": 9,
      "metadata": {
        "id": "BH6qM6SwZHN6",
        "colab": {
          "base_uri": "https://localhost:8080/"
        },
        "outputId": "ed806ea7-6bca-4b4c-f8ba-35e704ddc62a"
      },
      "outputs": [
        {
          "output_type": "stream",
          "name": "stdout",
          "text": [
            "8004.940474987081\n",
            "6870.967608356924\n"
          ]
        }
      ],
      "source": [
        "# Calcular el CLV promedio:\n",
        "clv_mean = df['Customer Lifetime Value'].mean()\n",
        "print(clv_mean)\n",
        "\n",
        "# Calcular la desviacion estandar del CLV promedio:\n",
        "clv_std = df['Customer Lifetime Value'].std()\n",
        "print(clv_std)"
      ]
    },
    {
      "cell_type": "markdown",
      "metadata": {
        "id": "3Dh1dhJ9ZHN6"
      },
      "source": [
        "## Paso 3: Evaluación de la Columna Response\n",
        "1. Usa `value_counts()` para ver cuántos clientes respondieron \"Yes\" y \"No\".\n",
        "2. Calcula el porcentaje de respuestas \"Yes\".\n",
        "\n",
        "Pregunta: ¿La proporción de \"Yes\" es baja? ¿Qué podría indicar esto respecto a la estrategia de respuesta?"
      ]
    },
    {
      "cell_type": "markdown",
      "source": [
        "una proporción baja de respuestas \"Yes\" (14.3%) sugiere que hay oportunidades significativas para mejorar la estrategia de respuesta y marketing. Diagnosticar las razones detrás de esta baja respuesta puede revelar información valiosa para ajustar las ofertas, comunicar mejor el valor, y en última instancia, aumentar las tasas de respuesta positiva en futuras campañas.**texto en negrita**"
      ],
      "metadata": {
        "id": "Q4-rmAx93tq8"
      }
    },
    {
      "cell_type": "code",
      "execution_count": 10,
      "metadata": {
        "id": "UlKtfgUGZHN7",
        "colab": {
          "base_uri": "https://localhost:8080/",
          "height": 178
        },
        "outputId": "6de2b931-ec1e-4e6c-b6f3-e688e3b2a3bc"
      },
      "outputs": [
        {
          "output_type": "execute_result",
          "data": {
            "text/plain": [
              "Response\n",
              "No     7826\n",
              "Yes    1308\n",
              "Name: count, dtype: int64"
            ],
            "text/html": [
              "<div>\n",
              "<style scoped>\n",
              "    .dataframe tbody tr th:only-of-type {\n",
              "        vertical-align: middle;\n",
              "    }\n",
              "\n",
              "    .dataframe tbody tr th {\n",
              "        vertical-align: top;\n",
              "    }\n",
              "\n",
              "    .dataframe thead th {\n",
              "        text-align: right;\n",
              "    }\n",
              "</style>\n",
              "<table border=\"1\" class=\"dataframe\">\n",
              "  <thead>\n",
              "    <tr style=\"text-align: right;\">\n",
              "      <th></th>\n",
              "      <th>count</th>\n",
              "    </tr>\n",
              "    <tr>\n",
              "      <th>Response</th>\n",
              "      <th></th>\n",
              "    </tr>\n",
              "  </thead>\n",
              "  <tbody>\n",
              "    <tr>\n",
              "      <th>No</th>\n",
              "      <td>7826</td>\n",
              "    </tr>\n",
              "    <tr>\n",
              "      <th>Yes</th>\n",
              "      <td>1308</td>\n",
              "    </tr>\n",
              "  </tbody>\n",
              "</table>\n",
              "</div><br><label><b>dtype:</b> int64</label>"
            ]
          },
          "metadata": {},
          "execution_count": 10
        }
      ],
      "source": [
        "# Cuantos clientes  respondieron \"Yes\" y \"No\"\n",
        "df['Response'].value_counts()"
      ]
    },
    {
      "cell_type": "code",
      "source": [
        "# Calcular el porcentaje de respuestas \"yes\"\n",
        "porcentaje_yes = (df['Response'].value_counts()['Yes'] / df.shape[0]) * 100\n",
        "print(porcentaje_yes)"
      ],
      "metadata": {
        "colab": {
          "base_uri": "https://localhost:8080/"
        },
        "id": "kzMq54iKwDCS",
        "outputId": "ef0ac413-1db4-4f16-8abf-228f288f0138"
      },
      "execution_count": 11,
      "outputs": [
        {
          "output_type": "stream",
          "name": "stdout",
          "text": [
            "14.320122618786948\n"
          ]
        }
      ]
    },
    {
      "cell_type": "markdown",
      "metadata": {
        "id": "5Gl7vEKyZHN7"
      },
      "source": [
        "## Paso 4: Análisis de la Prima Mensual (Monthly Premium Auto) por Coverage\n",
        "1. Agrupa los datos por `Coverage` y calcula la media de `Monthly Premium Auto`.\n",
        "2. Compara los promedios obtenidos para cada tipo de Coverage.\n",
        "\n",
        "Pregunta: ¿Existen diferencias notables entre las coberturas? ¿Qué implicaciones tendría esto en la estrategia de precios?"
      ]
    },
    {
      "cell_type": "markdown",
      "source": [
        "Si, existen. Las diferencias notables entre las coberturas ofrecen oportunidades significativas para segmentar y dirigirse a diferentes grupos de clientes. Debes asegurarte de que la estrategia de precios refleje el valor percibido por los clientes y esté apoyada por una sólida comunicación y marketing. Considerar cómo maximizar el atractivo y la percepción de valor de cada nivel de cobertura será clave para optimizar las ventas y la satisfacción del cliente."
      ],
      "metadata": {
        "id": "hsLPWNjb4IiH"
      }
    },
    {
      "cell_type": "markdown",
      "source": [],
      "metadata": {
        "id": "iXnumc7O4DQR"
      }
    },
    {
      "cell_type": "code",
      "execution_count": 15,
      "metadata": {
        "id": "yzGcyR52ZHN8",
        "colab": {
          "base_uri": "https://localhost:8080/",
          "height": 209
        },
        "outputId": "7c8b3c3d-e11b-488f-edef-fbae351848b0"
      },
      "outputs": [
        {
          "output_type": "execute_result",
          "data": {
            "text/plain": [
              "Coverage\n",
              "Basic        82.173851\n",
              "Extended    103.579504\n",
              "Premium     133.381068\n",
              "Name: Monthly Premium Auto, dtype: float64"
            ],
            "text/html": [
              "<div>\n",
              "<style scoped>\n",
              "    .dataframe tbody tr th:only-of-type {\n",
              "        vertical-align: middle;\n",
              "    }\n",
              "\n",
              "    .dataframe tbody tr th {\n",
              "        vertical-align: top;\n",
              "    }\n",
              "\n",
              "    .dataframe thead th {\n",
              "        text-align: right;\n",
              "    }\n",
              "</style>\n",
              "<table border=\"1\" class=\"dataframe\">\n",
              "  <thead>\n",
              "    <tr style=\"text-align: right;\">\n",
              "      <th></th>\n",
              "      <th>Monthly Premium Auto</th>\n",
              "    </tr>\n",
              "    <tr>\n",
              "      <th>Coverage</th>\n",
              "      <th></th>\n",
              "    </tr>\n",
              "  </thead>\n",
              "  <tbody>\n",
              "    <tr>\n",
              "      <th>Basic</th>\n",
              "      <td>82.173851</td>\n",
              "    </tr>\n",
              "    <tr>\n",
              "      <th>Extended</th>\n",
              "      <td>103.579504</td>\n",
              "    </tr>\n",
              "    <tr>\n",
              "      <th>Premium</th>\n",
              "      <td>133.381068</td>\n",
              "    </tr>\n",
              "  </tbody>\n",
              "</table>\n",
              "</div><br><label><b>dtype:</b> float64</label>"
            ]
          },
          "metadata": {},
          "execution_count": 15
        }
      ],
      "source": [
        "# Agrupar por 'Coverage' y calcular la media de 'Monthly Premium Auto'\n",
        "df.groupby('Coverage')['Monthly Premium Auto'].mean()\n"
      ]
    },
    {
      "cell_type": "markdown",
      "metadata": {
        "id": "UFsiRIveZHN8"
      },
      "source": [
        "## Paso 5: Análisis del Ingreso (Income) según EmploymentStatus\n",
        "1. Agrupa los datos por `EmploymentStatus` y calcula el ingreso promedio.\n",
        "\n",
        "Pregunta: ¿Qué diferencias encuentras entre los grupos? ¿Cómo podría influir esto en la segmentación de clientes?"
      ]
    },
    {
      "cell_type": "markdown",
      "source": [
        "Las diferencias de ingresos entre los grupos según el estado laboral son notables y tienen un gran impacto en la forma en que se pueden segmentar a los clientes. Al reconocer estas diferencias, las empresas pueden adaptar sus ofertas, marketing y estrategias de atención al cliente para atender mejor las necesidades de cada segmento, lo que puede resultar en un aumento de las ventas y una mejor satisfacción del cliente. Este enfoque no solo es estratégico, sino que también contribuye a cumplir con las expectativas de los distintos grupos de manera más efectiva.**texto en negrita**"
      ],
      "metadata": {
        "id": "GjjJGvBv4cGV"
      }
    },
    {
      "cell_type": "code",
      "execution_count": 18,
      "metadata": {
        "id": "KBd4a5TGZHN9",
        "colab": {
          "base_uri": "https://localhost:8080/",
          "height": 272
        },
        "outputId": "42c0c943-cdae-4d94-e55a-556b5659be7c"
      },
      "outputs": [
        {
          "output_type": "execute_result",
          "data": {
            "text/plain": [
              "EmploymentStatus\n",
              "Disabled         20045.582716\n",
              "Employed         56384.884521\n",
              "Medical Leave    20292.770833\n",
              "Retired          20554.960993\n",
              "Unemployed           0.000000\n",
              "Name: Income, dtype: float64"
            ],
            "text/html": [
              "<div>\n",
              "<style scoped>\n",
              "    .dataframe tbody tr th:only-of-type {\n",
              "        vertical-align: middle;\n",
              "    }\n",
              "\n",
              "    .dataframe tbody tr th {\n",
              "        vertical-align: top;\n",
              "    }\n",
              "\n",
              "    .dataframe thead th {\n",
              "        text-align: right;\n",
              "    }\n",
              "</style>\n",
              "<table border=\"1\" class=\"dataframe\">\n",
              "  <thead>\n",
              "    <tr style=\"text-align: right;\">\n",
              "      <th></th>\n",
              "      <th>Income</th>\n",
              "    </tr>\n",
              "    <tr>\n",
              "      <th>EmploymentStatus</th>\n",
              "      <th></th>\n",
              "    </tr>\n",
              "  </thead>\n",
              "  <tbody>\n",
              "    <tr>\n",
              "      <th>Disabled</th>\n",
              "      <td>20045.582716</td>\n",
              "    </tr>\n",
              "    <tr>\n",
              "      <th>Employed</th>\n",
              "      <td>56384.884521</td>\n",
              "    </tr>\n",
              "    <tr>\n",
              "      <th>Medical Leave</th>\n",
              "      <td>20292.770833</td>\n",
              "    </tr>\n",
              "    <tr>\n",
              "      <th>Retired</th>\n",
              "      <td>20554.960993</td>\n",
              "    </tr>\n",
              "    <tr>\n",
              "      <th>Unemployed</th>\n",
              "      <td>0.000000</td>\n",
              "    </tr>\n",
              "  </tbody>\n",
              "</table>\n",
              "</div><br><label><b>dtype:</b> float64</label>"
            ]
          },
          "metadata": {},
          "execution_count": 18
        }
      ],
      "source": [
        "# Agrupar los datos por 'EmploymentStatus\n",
        "df.groupby('EmploymentStatus')['Income'].mean()\n",
        "\n"
      ]
    },
    {
      "cell_type": "markdown",
      "metadata": {
        "id": "opvexkf8ZHN9"
      },
      "source": [
        "## Paso 6: Análisis del CLV por Estado\n",
        "1. Agrupa los datos por `State` y calcula el CLV promedio.\n",
        "\n",
        "Pregunta: ¿Qué estado muestra el mayor CLV? ¿Qué factores regionales podrían explicar esto?"
      ]
    },
    {
      "cell_type": "markdown",
      "source": [
        "El CLV en Oregon es superior en comparación con otros estados, probablemente debido a una combinación de factores demográficos, económicos y culturales. Comprender estos factores puede ayudar a las empresas a adaptar sus estrategias de marketing y desarrollo de productos para maximizar el valor del cliente en esta región, lo que es clave para el éxito empresarial a largo plazo.**texto en negrita**"
      ],
      "metadata": {
        "id": "zzWeQ01R5dQ6"
      }
    },
    {
      "cell_type": "code",
      "execution_count": 19,
      "metadata": {
        "id": "jHYjEGLXZHN9",
        "colab": {
          "base_uri": "https://localhost:8080/",
          "height": 272
        },
        "outputId": "c7069a21-7c7a-40ef-9e82-6b790c6e80bb"
      },
      "outputs": [
        {
          "output_type": "execute_result",
          "data": {
            "text/plain": [
              "State\n",
              "Arizona       7861.341489\n",
              "California    8003.647758\n",
              "Nevada        8056.706839\n",
              "Oregon        8077.901191\n",
              "Washington    8021.472273\n",
              "Name: Customer Lifetime Value, dtype: float64"
            ],
            "text/html": [
              "<div>\n",
              "<style scoped>\n",
              "    .dataframe tbody tr th:only-of-type {\n",
              "        vertical-align: middle;\n",
              "    }\n",
              "\n",
              "    .dataframe tbody tr th {\n",
              "        vertical-align: top;\n",
              "    }\n",
              "\n",
              "    .dataframe thead th {\n",
              "        text-align: right;\n",
              "    }\n",
              "</style>\n",
              "<table border=\"1\" class=\"dataframe\">\n",
              "  <thead>\n",
              "    <tr style=\"text-align: right;\">\n",
              "      <th></th>\n",
              "      <th>Customer Lifetime Value</th>\n",
              "    </tr>\n",
              "    <tr>\n",
              "      <th>State</th>\n",
              "      <th></th>\n",
              "    </tr>\n",
              "  </thead>\n",
              "  <tbody>\n",
              "    <tr>\n",
              "      <th>Arizona</th>\n",
              "      <td>7861.341489</td>\n",
              "    </tr>\n",
              "    <tr>\n",
              "      <th>California</th>\n",
              "      <td>8003.647758</td>\n",
              "    </tr>\n",
              "    <tr>\n",
              "      <th>Nevada</th>\n",
              "      <td>8056.706839</td>\n",
              "    </tr>\n",
              "    <tr>\n",
              "      <th>Oregon</th>\n",
              "      <td>8077.901191</td>\n",
              "    </tr>\n",
              "    <tr>\n",
              "      <th>Washington</th>\n",
              "      <td>8021.472273</td>\n",
              "    </tr>\n",
              "  </tbody>\n",
              "</table>\n",
              "</div><br><label><b>dtype:</b> float64</label>"
            ]
          },
          "metadata": {},
          "execution_count": 19
        }
      ],
      "source": [
        "# Agrupa los datos por \"state\"\n",
        "df.groupby('State')['Customer Lifetime Value'].mean()"
      ]
    },
    {
      "cell_type": "markdown",
      "metadata": {
        "id": "r20lS6w2ZHN9"
      },
      "source": [
        "## Paso 7: Análisis del Total Claim Amount según el Número de Pólizas\n",
        "1. Separa a los clientes con más de 1 póliza de aquellos con 1 sola póliza.\n",
        "2. Calcula el Total Claim Amount promedio para cada grupo.\n",
        "\n",
        "Pregunta: ¿Qué diferencias encuentras y qué podrían indicar respecto al riesgo y comportamiento de reclamaciones?"
      ]
    },
    {
      "cell_type": "markdown",
      "source": [
        "Las diferencias en el Total Claim Amount Son casi iguales los resultados a simple vista son muy cercanos, muy similares. Las empresas de seguros pueden utilizar estos datos para mejorar su gestión del riesgo, ajustar sus estrategias de marketing, diseñar productos más efectivos y, en general, mejorar la experiencia del cliente. Entender estas dinámicas es clave para maximizar la rentabilidad y la satisfacción del cliente a largo plazo.\n",
        "\n"
      ],
      "metadata": {
        "id": "yZFlDzU96ug6"
      }
    },
    {
      "cell_type": "code",
      "source": [
        "df.groupby('Number of Policies')['Total Claim Amount'].mean()"
      ],
      "metadata": {
        "colab": {
          "base_uri": "https://localhost:8080/",
          "height": 397
        },
        "id": "W9rBS4Ei55YP",
        "outputId": "c7e8b2b8-3bf3-4968-f46d-92e95d62c593"
      },
      "execution_count": 22,
      "outputs": [
        {
          "output_type": "execute_result",
          "data": {
            "text/plain": [
              "Number of Policies\n",
              "1    440.278532\n",
              "2    433.610653\n",
              "3    415.969821\n",
              "4    428.791219\n",
              "5    428.755107\n",
              "6    410.962617\n",
              "7    468.401546\n",
              "8    445.049999\n",
              "9    424.499642\n",
              "Name: Total Claim Amount, dtype: float64"
            ],
            "text/html": [
              "<div>\n",
              "<style scoped>\n",
              "    .dataframe tbody tr th:only-of-type {\n",
              "        vertical-align: middle;\n",
              "    }\n",
              "\n",
              "    .dataframe tbody tr th {\n",
              "        vertical-align: top;\n",
              "    }\n",
              "\n",
              "    .dataframe thead th {\n",
              "        text-align: right;\n",
              "    }\n",
              "</style>\n",
              "<table border=\"1\" class=\"dataframe\">\n",
              "  <thead>\n",
              "    <tr style=\"text-align: right;\">\n",
              "      <th></th>\n",
              "      <th>Total Claim Amount</th>\n",
              "    </tr>\n",
              "    <tr>\n",
              "      <th>Number of Policies</th>\n",
              "      <th></th>\n",
              "    </tr>\n",
              "  </thead>\n",
              "  <tbody>\n",
              "    <tr>\n",
              "      <th>1</th>\n",
              "      <td>440.278532</td>\n",
              "    </tr>\n",
              "    <tr>\n",
              "      <th>2</th>\n",
              "      <td>433.610653</td>\n",
              "    </tr>\n",
              "    <tr>\n",
              "      <th>3</th>\n",
              "      <td>415.969821</td>\n",
              "    </tr>\n",
              "    <tr>\n",
              "      <th>4</th>\n",
              "      <td>428.791219</td>\n",
              "    </tr>\n",
              "    <tr>\n",
              "      <th>5</th>\n",
              "      <td>428.755107</td>\n",
              "    </tr>\n",
              "    <tr>\n",
              "      <th>6</th>\n",
              "      <td>410.962617</td>\n",
              "    </tr>\n",
              "    <tr>\n",
              "      <th>7</th>\n",
              "      <td>468.401546</td>\n",
              "    </tr>\n",
              "    <tr>\n",
              "      <th>8</th>\n",
              "      <td>445.049999</td>\n",
              "    </tr>\n",
              "    <tr>\n",
              "      <th>9</th>\n",
              "      <td>424.499642</td>\n",
              "    </tr>\n",
              "  </tbody>\n",
              "</table>\n",
              "</div><br><label><b>dtype:</b> float64</label>"
            ]
          },
          "metadata": {},
          "execution_count": 22
        }
      ]
    },
    {
      "cell_type": "code",
      "source": [],
      "metadata": {
        "id": "Y46fgITjEbwT"
      },
      "execution_count": null,
      "outputs": []
    },
    {
      "cell_type": "code",
      "execution_count": 23,
      "metadata": {
        "id": "oV66YptbZHN9"
      },
      "outputs": [],
      "source": [
        "# Separa a los clientes con más de 1 póliza de aquellos con 1 sola póliza.\n",
        "clientes_multiples_polizas = df[df['Number of Policies'] > 1]\n",
        "clientes_una_poliza = df[df['Number of Policies'] == 1]\n",
        "\n",
        "# Calcula el Total Claim Amount promedio para cada grupo.\n",
        "claim_amount_multiples_polizas = clientes_multiples_polizas['Total Claim Amount'].mean()\n",
        "claim_amount_una_poliza = clientes_una_poliza['Total Claim Amount'].mean()\n"
      ]
    },
    {
      "cell_type": "markdown",
      "metadata": {
        "id": "vtiPHUZiZHN-"
      },
      "source": [
        "## Paso 8: Análisis del CLV según Vehicle Class\n",
        "1. Agrupa los datos por `Vehicle Class` y calcula el CLV promedio para cada clase.\n",
        "\n",
        "Pregunta: ¿Qué clase de vehículo se asocia a un mayor CLV y qué implicaciones podría tener esto en la estrategia de producto?"
      ]
    },
    {
      "cell_type": "markdown",
      "source": [
        "El Luxury SUV no solo representa la clase de vehículo con el mayor CLV, sino que también ofrece numerosas oportunidades para las empresas en términos de desarrollo de productos, mejoras en la experiencia del cliente, y estrategias de marketing. Aprovechar este potencial puede resultar en un aumento significativo en la rentabilidad y en la lealtad del cliente a largo plazo."
      ],
      "metadata": {
        "id": "L2GeZ9D58Deo"
      }
    },
    {
      "cell_type": "code",
      "execution_count": 24,
      "metadata": {
        "id": "LdzNouGbZHN-",
        "colab": {
          "base_uri": "https://localhost:8080/",
          "height": 303
        },
        "outputId": "679e0aae-29c2-49ad-8bdf-43627b874413"
      },
      "outputs": [
        {
          "output_type": "execute_result",
          "data": {
            "text/plain": [
              "Vehicle Class\n",
              "Four-Door Car     6631.726607\n",
              "Luxury Car       17053.348399\n",
              "Luxury SUV       17122.999134\n",
              "SUV              10443.511816\n",
              "Sports Car       10750.989331\n",
              "Two-Door Car      6671.030732\n",
              "Name: Customer Lifetime Value, dtype: float64"
            ],
            "text/html": [
              "<div>\n",
              "<style scoped>\n",
              "    .dataframe tbody tr th:only-of-type {\n",
              "        vertical-align: middle;\n",
              "    }\n",
              "\n",
              "    .dataframe tbody tr th {\n",
              "        vertical-align: top;\n",
              "    }\n",
              "\n",
              "    .dataframe thead th {\n",
              "        text-align: right;\n",
              "    }\n",
              "</style>\n",
              "<table border=\"1\" class=\"dataframe\">\n",
              "  <thead>\n",
              "    <tr style=\"text-align: right;\">\n",
              "      <th></th>\n",
              "      <th>Customer Lifetime Value</th>\n",
              "    </tr>\n",
              "    <tr>\n",
              "      <th>Vehicle Class</th>\n",
              "      <th></th>\n",
              "    </tr>\n",
              "  </thead>\n",
              "  <tbody>\n",
              "    <tr>\n",
              "      <th>Four-Door Car</th>\n",
              "      <td>6631.726607</td>\n",
              "    </tr>\n",
              "    <tr>\n",
              "      <th>Luxury Car</th>\n",
              "      <td>17053.348399</td>\n",
              "    </tr>\n",
              "    <tr>\n",
              "      <th>Luxury SUV</th>\n",
              "      <td>17122.999134</td>\n",
              "    </tr>\n",
              "    <tr>\n",
              "      <th>SUV</th>\n",
              "      <td>10443.511816</td>\n",
              "    </tr>\n",
              "    <tr>\n",
              "      <th>Sports Car</th>\n",
              "      <td>10750.989331</td>\n",
              "    </tr>\n",
              "    <tr>\n",
              "      <th>Two-Door Car</th>\n",
              "      <td>6671.030732</td>\n",
              "    </tr>\n",
              "  </tbody>\n",
              "</table>\n",
              "</div><br><label><b>dtype:</b> float64</label>"
            ]
          },
          "metadata": {},
          "execution_count": 24
        }
      ],
      "source": [
        "# Agrupar los datos por \"Vehicle Class\"\n",
        "df.groupby('Vehicle Class')['Customer Lifetime Value'].mean()"
      ]
    },
    {
      "cell_type": "markdown",
      "metadata": {
        "id": "VCd_L8qhZHN-"
      },
      "source": [
        "## Paso 9: Análisis de Months Since Last Claim según Education\n",
        "1. Agrupa los datos por `Education` y calcula el promedio de `Months Since Last Claim`.\n",
        "\n",
        "Pregunta: ¿Existen diferencias notables entre los niveles educativos? ¿Qué podría indicar sobre la gestión de reclamos?"
      ]
    },
    {
      "cell_type": "markdown",
      "source": [
        "Las diferencias en los promedios de \"Months Since Last Claim\" entre niveles educativos son muy pequeñas y no parecen significativas. Esto sugiere que el nivel educativo probablemente no influye mucho en la gestión de reclamos. Podrían existir otros factores más relevantes que expliquen el comportamiento en este aspecto."
      ],
      "metadata": {
        "id": "IPtunRRM-DIj"
      }
    },
    {
      "cell_type": "code",
      "execution_count": 25,
      "metadata": {
        "id": "D7AIwvBOZHN-",
        "colab": {
          "base_uri": "https://localhost:8080/",
          "height": 272
        },
        "outputId": "ee3cf1ea-efab-4234-dd79-ffedc4fbf92b"
      },
      "outputs": [
        {
          "output_type": "execute_result",
          "data": {
            "text/plain": [
              "Education\n",
              "Bachelor                14.834789\n",
              "College                 15.432301\n",
              "Doctor                  15.260234\n",
              "High School or Below    14.978642\n",
              "Master                  15.199730\n",
              "Name: Months Since Last Claim, dtype: float64"
            ],
            "text/html": [
              "<div>\n",
              "<style scoped>\n",
              "    .dataframe tbody tr th:only-of-type {\n",
              "        vertical-align: middle;\n",
              "    }\n",
              "\n",
              "    .dataframe tbody tr th {\n",
              "        vertical-align: top;\n",
              "    }\n",
              "\n",
              "    .dataframe thead th {\n",
              "        text-align: right;\n",
              "    }\n",
              "</style>\n",
              "<table border=\"1\" class=\"dataframe\">\n",
              "  <thead>\n",
              "    <tr style=\"text-align: right;\">\n",
              "      <th></th>\n",
              "      <th>Months Since Last Claim</th>\n",
              "    </tr>\n",
              "    <tr>\n",
              "      <th>Education</th>\n",
              "      <th></th>\n",
              "    </tr>\n",
              "  </thead>\n",
              "  <tbody>\n",
              "    <tr>\n",
              "      <th>Bachelor</th>\n",
              "      <td>14.834789</td>\n",
              "    </tr>\n",
              "    <tr>\n",
              "      <th>College</th>\n",
              "      <td>15.432301</td>\n",
              "    </tr>\n",
              "    <tr>\n",
              "      <th>Doctor</th>\n",
              "      <td>15.260234</td>\n",
              "    </tr>\n",
              "    <tr>\n",
              "      <th>High School or Below</th>\n",
              "      <td>14.978642</td>\n",
              "    </tr>\n",
              "    <tr>\n",
              "      <th>Master</th>\n",
              "      <td>15.199730</td>\n",
              "    </tr>\n",
              "  </tbody>\n",
              "</table>\n",
              "</div><br><label><b>dtype:</b> float64</label>"
            ]
          },
          "metadata": {},
          "execution_count": 25
        }
      ],
      "source": [
        "# Agrupar los datos por 'Education\" y  calcula el promedio de 'Months Since Last Claim'\n",
        "df.groupby('Education')['Months Since Last Claim'].mean()\n"
      ]
    },
    {
      "cell_type": "markdown",
      "metadata": {
        "id": "cQfegNw8ZHN-"
      },
      "source": [
        "## Paso 10: Análisis del Income según Marital Status y Gender\n",
        "1. Realiza una segmentación cruzada agrupando por `Marital Status` y `Gender` para calcular el ingreso promedio.\n",
        "\n",
        "Pregunta: ¿Qué diferencias observas? ¿Cómo podrían influir estas diferencias en la estrategia de segmentación de clientes?"
      ]
    },
    {
      "cell_type": "markdown",
      "source": [
        "En resumen, los ingresos promedio varían notablemente según el estado civil y el género. Las personas casadas tienen los ingresos más altos, mientras que los solteros tienen los más bajos. Esto sugiere que las estrategias de segmentación podrían enfocarse en ofrecer productos premium a los casados y adaptar propuestas más accesibles a los solteros, considerando sus diferencias **económicas**"
      ],
      "metadata": {
        "id": "bOhl_EZ6-dWR"
      }
    },
    {
      "cell_type": "code",
      "execution_count": 27,
      "metadata": {
        "id": "ZlHKlPVjZHN-",
        "colab": {
          "base_uri": "https://localhost:8080/",
          "height": 303
        },
        "outputId": "4fd97a01-3420-40a0-94ae-fae5f7795dd9"
      },
      "outputs": [
        {
          "output_type": "execute_result",
          "data": {
            "text/plain": [
              "Marital Status  Gender\n",
              "Divorced        F         37913.709450\n",
              "                M         43681.934848\n",
              "Married         F         44276.994962\n",
              "                M         43304.110361\n",
              "Single          F         23573.758120\n",
              "                M         22005.776407\n",
              "Name: Income, dtype: float64"
            ],
            "text/html": [
              "<div>\n",
              "<style scoped>\n",
              "    .dataframe tbody tr th:only-of-type {\n",
              "        vertical-align: middle;\n",
              "    }\n",
              "\n",
              "    .dataframe tbody tr th {\n",
              "        vertical-align: top;\n",
              "    }\n",
              "\n",
              "    .dataframe thead th {\n",
              "        text-align: right;\n",
              "    }\n",
              "</style>\n",
              "<table border=\"1\" class=\"dataframe\">\n",
              "  <thead>\n",
              "    <tr style=\"text-align: right;\">\n",
              "      <th></th>\n",
              "      <th></th>\n",
              "      <th>Income</th>\n",
              "    </tr>\n",
              "    <tr>\n",
              "      <th>Marital Status</th>\n",
              "      <th>Gender</th>\n",
              "      <th></th>\n",
              "    </tr>\n",
              "  </thead>\n",
              "  <tbody>\n",
              "    <tr>\n",
              "      <th rowspan=\"2\" valign=\"top\">Divorced</th>\n",
              "      <th>F</th>\n",
              "      <td>37913.709450</td>\n",
              "    </tr>\n",
              "    <tr>\n",
              "      <th>M</th>\n",
              "      <td>43681.934848</td>\n",
              "    </tr>\n",
              "    <tr>\n",
              "      <th rowspan=\"2\" valign=\"top\">Married</th>\n",
              "      <th>F</th>\n",
              "      <td>44276.994962</td>\n",
              "    </tr>\n",
              "    <tr>\n",
              "      <th>M</th>\n",
              "      <td>43304.110361</td>\n",
              "    </tr>\n",
              "    <tr>\n",
              "      <th rowspan=\"2\" valign=\"top\">Single</th>\n",
              "      <th>F</th>\n",
              "      <td>23573.758120</td>\n",
              "    </tr>\n",
              "    <tr>\n",
              "      <th>M</th>\n",
              "      <td>22005.776407</td>\n",
              "    </tr>\n",
              "  </tbody>\n",
              "</table>\n",
              "</div><br><label><b>dtype:</b> float64</label>"
            ]
          },
          "metadata": {},
          "execution_count": 27
        }
      ],
      "source": [
        "#Agrupar por Marital Status y Gender para calcular el ingreso promedio.\n",
        "df.groupby(['Marital Status', 'Gender'])['Income'].mean()"
      ]
    },
    {
      "cell_type": "markdown",
      "metadata": {
        "id": "qbvaFaJqZHN-"
      },
      "source": [
        "#[texto del enlace](https://)# Paso 11: Distribución de la Columna Response\n",
        "1. Usa `value_counts()` para mostrar cuántos clientes hay en cada grupo de Response.\n",
        "\n",
        "Pregunta: ¿La distribución de respuestas sugiere que se debe ajustar la estrategia de comunicación?"
      ]
    },
    {
      "cell_type": "markdown",
      "source": [
        "La distribución muestra una baja proporción de respuestas \"Yes\" (14.3%), lo que indica que es necesario revisar y mejorar la estrategia de comunicación para aumentar la efectividad y el engagement con los clientes."
      ],
      "metadata": {
        "id": "xf3Px8FQ_ati"
      }
    },
    {
      "cell_type": "code",
      "execution_count": 28,
      "metadata": {
        "id": "p5KLnw5oZHN-",
        "colab": {
          "base_uri": "https://localhost:8080/",
          "height": 178
        },
        "outputId": "9e486879-26a7-4e7e-d6e1-615626ae5534"
      },
      "outputs": [
        {
          "output_type": "execute_result",
          "data": {
            "text/plain": [
              "Response\n",
              "No     7826\n",
              "Yes    1308\n",
              "Name: count, dtype: int64"
            ],
            "text/html": [
              "<div>\n",
              "<style scoped>\n",
              "    .dataframe tbody tr th:only-of-type {\n",
              "        vertical-align: middle;\n",
              "    }\n",
              "\n",
              "    .dataframe tbody tr th {\n",
              "        vertical-align: top;\n",
              "    }\n",
              "\n",
              "    .dataframe thead th {\n",
              "        text-align: right;\n",
              "    }\n",
              "</style>\n",
              "<table border=\"1\" class=\"dataframe\">\n",
              "  <thead>\n",
              "    <tr style=\"text-align: right;\">\n",
              "      <th></th>\n",
              "      <th>count</th>\n",
              "    </tr>\n",
              "    <tr>\n",
              "      <th>Response</th>\n",
              "      <th></th>\n",
              "    </tr>\n",
              "  </thead>\n",
              "  <tbody>\n",
              "    <tr>\n",
              "      <th>No</th>\n",
              "      <td>7826</td>\n",
              "    </tr>\n",
              "    <tr>\n",
              "      <th>Yes</th>\n",
              "      <td>1308</td>\n",
              "    </tr>\n",
              "  </tbody>\n",
              "</table>\n",
              "</div><br><label><b>dtype:</b> int64</label>"
            ]
          },
          "metadata": {},
          "execution_count": 28
        }
      ],
      "source": [
        "# value_counts() para mostrar cuántos clientes hay en cada grupo de Response.\n",
        "df['Response'].value_counts()"
      ]
    },
    {
      "cell_type": "markdown",
      "metadata": {
        "id": "R6SPMEuMZHN_"
      },
      "source": [
        "## Paso 12: Análisis de Quejas Abiertas por Coverage\n",
        "1. Agrupa los datos por `Coverage` y calcula el número promedio de quejas abiertas (`Number of Open Complaints`).\n",
        "\n",
        "Pregunta: ¿Existen coberturas con un número de quejas significativamente mayor? ¿Qué acciones se podrían tomar?"
      ]
    },
    {
      "cell_type": "markdown",
      "source": [
        "Las coberturas Extended y Basic tienen un promedio de quejas ligeramente mayor que Premium, pero las diferencias no son nada significativas. Una acción sería investigar las causas detrás de las quejas en estas coberturas y mejorar los procesos o productos asociados para reducirlas"
      ],
      "metadata": {
        "id": "GIPfAS_hAAXK"
      }
    },
    {
      "cell_type": "code",
      "execution_count": 29,
      "metadata": {
        "id": "6rIalm7TZHN_",
        "colab": {
          "base_uri": "https://localhost:8080/",
          "height": 209
        },
        "outputId": "e594872e-0a8c-4029-e086-ceeba44da2a6"
      },
      "outputs": [
        {
          "output_type": "execute_result",
          "data": {
            "text/plain": [
              "Coverage\n",
              "Basic       0.384698\n",
              "Extended    0.398979\n",
              "Premium     0.333738\n",
              "Name: Number of Open Complaints, dtype: float64"
            ],
            "text/html": [
              "<div>\n",
              "<style scoped>\n",
              "    .dataframe tbody tr th:only-of-type {\n",
              "        vertical-align: middle;\n",
              "    }\n",
              "\n",
              "    .dataframe tbody tr th {\n",
              "        vertical-align: top;\n",
              "    }\n",
              "\n",
              "    .dataframe thead th {\n",
              "        text-align: right;\n",
              "    }\n",
              "</style>\n",
              "<table border=\"1\" class=\"dataframe\">\n",
              "  <thead>\n",
              "    <tr style=\"text-align: right;\">\n",
              "      <th></th>\n",
              "      <th>Number of Open Complaints</th>\n",
              "    </tr>\n",
              "    <tr>\n",
              "      <th>Coverage</th>\n",
              "      <th></th>\n",
              "    </tr>\n",
              "  </thead>\n",
              "  <tbody>\n",
              "    <tr>\n",
              "      <th>Basic</th>\n",
              "      <td>0.384698</td>\n",
              "    </tr>\n",
              "    <tr>\n",
              "      <th>Extended</th>\n",
              "      <td>0.398979</td>\n",
              "    </tr>\n",
              "    <tr>\n",
              "      <th>Premium</th>\n",
              "      <td>0.333738</td>\n",
              "    </tr>\n",
              "  </tbody>\n",
              "</table>\n",
              "</div><br><label><b>dtype:</b> float64</label>"
            ]
          },
          "metadata": {},
          "execution_count": 29
        }
      ],
      "source": [
        "# Agrupar los datos por \"Coverage\" y calcula el número promedio de quejas abiertas (Number of Open Complaints).\n",
        "df.groupby('Coverage')['Number of Open Complaints'].mean()"
      ]
    },
    {
      "cell_type": "markdown",
      "metadata": {
        "id": "d7wQ2NncZHN_"
      },
      "source": [
        "## Paso 13: Análisis de la Antigüedad de las Pólizas según EmploymentStatus\n",
        "1. Agrupa por `EmploymentStatus` y calcula el promedio de `Months Since Policy Inception`.\n",
        "\n",
        "Pregunta: ¿Existe alguna relación entre el estado laboral y la antigüedad de las pólizas? ¿Qué podría implicar esto en la estabilidad del cliente?"
      ]
    },
    {
      "cell_type": "markdown",
      "source": [
        "Los clientes desempleados y retirados tienen una mayor antigüedad en sus pólizas. Esto podría implicar que tienen mayor estabilidad y lealtad hacia la aseguradora, lo que los hace valiosos para estrategias de retención"
      ],
      "metadata": {
        "id": "aEW4F5heAt_7"
      }
    },
    {
      "cell_type": "code",
      "execution_count": 30,
      "metadata": {
        "id": "3DvT3EAnZHN_",
        "colab": {
          "base_uri": "https://localhost:8080/",
          "height": 272
        },
        "outputId": "d19f1000-982b-4594-a5e9-a92c471ec161"
      },
      "outputs": [
        {
          "output_type": "execute_result",
          "data": {
            "text/plain": [
              "EmploymentStatus\n",
              "Disabled         47.469136\n",
              "Employed         47.800456\n",
              "Medical Leave    48.141204\n",
              "Retired          48.531915\n",
              "Unemployed       48.747087\n",
              "Name: Months Since Policy Inception, dtype: float64"
            ],
            "text/html": [
              "<div>\n",
              "<style scoped>\n",
              "    .dataframe tbody tr th:only-of-type {\n",
              "        vertical-align: middle;\n",
              "    }\n",
              "\n",
              "    .dataframe tbody tr th {\n",
              "        vertical-align: top;\n",
              "    }\n",
              "\n",
              "    .dataframe thead th {\n",
              "        text-align: right;\n",
              "    }\n",
              "</style>\n",
              "<table border=\"1\" class=\"dataframe\">\n",
              "  <thead>\n",
              "    <tr style=\"text-align: right;\">\n",
              "      <th></th>\n",
              "      <th>Months Since Policy Inception</th>\n",
              "    </tr>\n",
              "    <tr>\n",
              "      <th>EmploymentStatus</th>\n",
              "      <th></th>\n",
              "    </tr>\n",
              "  </thead>\n",
              "  <tbody>\n",
              "    <tr>\n",
              "      <th>Disabled</th>\n",
              "      <td>47.469136</td>\n",
              "    </tr>\n",
              "    <tr>\n",
              "      <th>Employed</th>\n",
              "      <td>47.800456</td>\n",
              "    </tr>\n",
              "    <tr>\n",
              "      <th>Medical Leave</th>\n",
              "      <td>48.141204</td>\n",
              "    </tr>\n",
              "    <tr>\n",
              "      <th>Retired</th>\n",
              "      <td>48.531915</td>\n",
              "    </tr>\n",
              "    <tr>\n",
              "      <th>Unemployed</th>\n",
              "      <td>48.747087</td>\n",
              "    </tr>\n",
              "  </tbody>\n",
              "</table>\n",
              "</div><br><label><b>dtype:</b> float64</label>"
            ]
          },
          "metadata": {},
          "execution_count": 30
        }
      ],
      "source": [
        "# Agrupar por \"EmploymentStatus\" y calcula el promedio de \"Months Since Policy Inception\"\n",
        "df.groupby('EmploymentStatus')['Months Since Policy Inception'].mean()"
      ]
    },
    {
      "cell_type": "markdown",
      "metadata": {
        "id": "S_pRUmAsZHN_"
      },
      "source": [
        "## Paso 14: Análisis del Total Claim Amount según Policy Type\n",
        "1. Agrupa por `Policy Type` y calcula el Total Claim Amount promedio para cada tipo de póliza.\n",
        "\n",
        "Pregunta: ¿Qué diferencias se observan entre los tipos de póliza y qué podrían implicar en términos de riesgo y eficiencia operativa?"
      ]
    },
    {
      "cell_type": "markdown",
      "source": [
        "Los tipos de póliza tienen diferencias mínimas en el Total Claim Amount, con \"Special Auto\" siendo ligeramente más alto. Esto podría implicar que las pólizas especializadas presentan un riesgo ligeramente mayor, pero también potencial para optimizar procesos operativos y ajustar tarifas **texto en negrita**"
      ],
      "metadata": {
        "id": "Bh0JuWgRBX6R"
      }
    },
    {
      "cell_type": "code",
      "execution_count": 31,
      "metadata": {
        "id": "0q5ZwE_jZHN_",
        "colab": {
          "base_uri": "https://localhost:8080/",
          "height": 209
        },
        "outputId": "0e7dea72-a08e-4806-cc09-f4dc0f663cd9"
      },
      "outputs": [
        {
          "output_type": "execute_result",
          "data": {
            "text/plain": [
              "Policy Type\n",
              "Corporate Auto    430.312188\n",
              "Personal Auto     434.828219\n",
              "Special Auto      440.472770\n",
              "Name: Total Claim Amount, dtype: float64"
            ],
            "text/html": [
              "<div>\n",
              "<style scoped>\n",
              "    .dataframe tbody tr th:only-of-type {\n",
              "        vertical-align: middle;\n",
              "    }\n",
              "\n",
              "    .dataframe tbody tr th {\n",
              "        vertical-align: top;\n",
              "    }\n",
              "\n",
              "    .dataframe thead th {\n",
              "        text-align: right;\n",
              "    }\n",
              "</style>\n",
              "<table border=\"1\" class=\"dataframe\">\n",
              "  <thead>\n",
              "    <tr style=\"text-align: right;\">\n",
              "      <th></th>\n",
              "      <th>Total Claim Amount</th>\n",
              "    </tr>\n",
              "    <tr>\n",
              "      <th>Policy Type</th>\n",
              "      <th></th>\n",
              "    </tr>\n",
              "  </thead>\n",
              "  <tbody>\n",
              "    <tr>\n",
              "      <th>Corporate Auto</th>\n",
              "      <td>430.312188</td>\n",
              "    </tr>\n",
              "    <tr>\n",
              "      <th>Personal Auto</th>\n",
              "      <td>434.828219</td>\n",
              "    </tr>\n",
              "    <tr>\n",
              "      <th>Special Auto</th>\n",
              "      <td>440.472770</td>\n",
              "    </tr>\n",
              "  </tbody>\n",
              "</table>\n",
              "</div><br><label><b>dtype:</b> float64</label>"
            ]
          },
          "metadata": {},
          "execution_count": 31
        }
      ],
      "source": [
        "# AgrupaR por \"Policy Type\" y calcula el Total \"Claim Amount\" promedio para cada tipo de póliza\n",
        "df.groupby('Policy Type')['Total Claim Amount'].mean()"
      ]
    },
    {
      "cell_type": "markdown",
      "metadata": {
        "id": "dv45Mm6LZHN_"
      },
      "source": [
        "## Caso de Negocio: Evaluación de la Inversión en Marketing\n",
        "\n",
        "### Contexto:\n",
        "Una compañía de seguros ha asignado un presupuesto ficticio de **$5,000,000** para campañas de adquisición. El objetivo es evaluar la rentabilidad de la inversión comparando el gasto de marketing ( 50000000) (CAC) con el Customer Lifetime Value (CLV) obtenido.\n",
        "\n",
        "### Tareas:\n",
        "1. Utiliza el CLV promedio obtenido en el Paso 2.\n",
        "2. Calcula el CAC promedio dividiendo el presupuesto de marketing entre el número total de clientes.\n",
        "3. Compara el CAC promedio con el CLV promedio y responde:\n",
        "   - ¿El CAC es inferior al CLV, lo que justificaría la inversión?\n",
        "   - ¿Qué porcentaje del CLV representa el CAC?\n",
        "\n",
        "_Reflexión estratégica: Si el CAC es significativamente menor que el CLV, la inversión en marketing es rentable. De lo contrario, se deberá replantear la estrategia de adquisición._"
      ]
    },
    {
      "cell_type": "code",
      "source": [
        "# Importar las librerías necesarias\n",
        "import pandas as pd"
      ],
      "metadata": {
        "id": "RBRUwb8OcE9P"
      },
      "execution_count": 32,
      "outputs": []
    },
    {
      "cell_type": "code",
      "source": [
        "# Valores\n",
        "presupuesto_marketing = 5000000  # Presupuesto de marketing\n",
        "numero_clientes = 9134  # Número total de clientes\n",
        "clv_promedio = 8004.940 # CLV promedio obtenido en el Paso 2\n",
        "NumCli = len(df)"
      ],
      "metadata": {
        "id": "x0huXHVpcE5y"
      },
      "execution_count": 33,
      "outputs": []
    },
    {
      "cell_type": "code",
      "source": [
        "CACprmo = presupuesto_marketing / NumCli\n",
        "print(CACprmo)\n",
        "print(clv_promedio)"
      ],
      "metadata": {
        "id": "2LLYny3xcHvo",
        "colab": {
          "base_uri": "https://localhost:8080/"
        },
        "outputId": "12525de8-e413-4a55-c129-8003672d2b0a"
      },
      "execution_count": 35,
      "outputs": [
        {
          "output_type": "stream",
          "name": "stdout",
          "text": [
            "547.4052988832932\n",
            "8004.940474987081\n"
          ]
        }
      ]
    },
    {
      "cell_type": "code",
      "source": [
        "# Comparar el \"CAC\" promedio con el \"CLV\" Promedio\n",
        "if CACprmo < clv_promedio:\n",
        "    print(\"El CAC es inferior al CLV, lo que justifica la inversión.\")\n",
        "else:\n",
        "    print(\"La inversión en marketing no es rentable.\")"
      ],
      "metadata": {
        "id": "w7Z4XhIYcaNq",
        "colab": {
          "base_uri": "https://localhost:8080/"
        },
        "outputId": "d2e6bc8c-b4dc-4343-dbc7-23aefb0fdf83"
      },
      "execution_count": 36,
      "outputs": [
        {
          "output_type": "stream",
          "name": "stdout",
          "text": [
            "El CAC es inferior al CLV, lo que justifica la inversión.\n"
          ]
        }
      ]
    },
    {
      "cell_type": "code",
      "source": [
        "# Comparar el \"CAC\" (547.4052988832932) promedio con el \"CLV\" Promedio (8004.940474987081)\n",
        "df['Customer Lifetime Value'].mean()\n"
      ],
      "metadata": {
        "id": "LwTjvOmAcHhU",
        "colab": {
          "base_uri": "https://localhost:8080/"
        },
        "outputId": "7dd0fdcf-a43a-45e7-cfc4-745015557475"
      },
      "execution_count": 37,
      "outputs": [
        {
          "output_type": "execute_result",
          "data": {
            "text/plain": [
              "8004.940474987081"
            ]
          },
          "metadata": {},
          "execution_count": 37
        }
      ]
    },
    {
      "cell_type": "code",
      "source": [
        "# porcentaje del CLV representa el CAC\n",
        "CACprmo / clv_promedio * 100"
      ],
      "metadata": {
        "colab": {
          "base_uri": "https://localhost:8080/"
        },
        "id": "eRQmrXKyEgQB",
        "outputId": "57fa8ad6-9371-4e76-c8d9-703c09714b12"
      },
      "execution_count": 38,
      "outputs": [
        {
          "output_type": "execute_result",
          "data": {
            "text/plain": [
              "6.838343153128526"
            ]
          },
          "metadata": {},
          "execution_count": 38
        }
      ]
    },
    {
      "cell_type": "markdown",
      "source": [
        "### **Bonus:** Teniendo lo anterior en cual es la proporcion de clientes rentables"
      ],
      "metadata": {
        "id": "jxs59vjXa7RK"
      }
    },
    {
      "cell_type": "code",
      "source": [
        "# PROPORCION DE CLIENTES RENTABLES\n",
        "# Importar las librerías necesarias\n",
        "import pandas as pd\n",
        "\n",
        "# Filtrar clientes rentables (CLV > CAC promedio)\n",
        "clientes_rentables = df[df['Customer Lifetime Value'] > cac_promedio]\n",
        "\n",
        "# Calcular la proporción de clientes rentables\n",
        "proporcion_rentables = len(clientes_rentables) / numero_clientes * 100\n",
        "\n",
        "# Mostrar los resultados\n",
        "print(f\"CLV Promedio: ${clv_promedio:.2f}\")\n",
        "print(f\"CAC Promedio: ${cac_promedio:.2f}\")\n",
        "print(f\"Número de Clientes Rentables: {len(clientes_rentables)}\")\n",
        "print(f\"Proporción de Clientes Rentables: {proporcion_rentables:.2f}%\")"
      ],
      "metadata": {
        "id": "t9RTzcoIazea",
        "colab": {
          "base_uri": "https://localhost:8080/"
        },
        "outputId": "851894f9-6a5e-405d-8b86-952c8da7a35c"
      },
      "execution_count": 43,
      "outputs": [
        {
          "output_type": "stream",
          "name": "stdout",
          "text": [
            "CLV Promedio: $8004.94\n",
            "CAC Promedio: $547.41\n",
            "Número de Clientes Rentables: 9134\n",
            "Proporción de Clientes Rentables: 100.00%\n"
          ]
        }
      ]
    },
    {
      "cell_type": "markdown",
      "metadata": {
        "id": "ICF1oz4cZHN_"
      },
      "source": [
        "## Conclusiones y Recomendaciones\n",
        "\n",
        "### **Bonus 2:** En no más de un parrafo mencione 3 acciones concretas para mejorar los reusltados de la empresa.\n"
      ]
    },
    {
      "cell_type": "markdown",
      "source": [
        "*Para mejorar los resultados de la empresa, recomendaria a acciones como: 1. implementar un enfoque integral en la experiencia del cliente que incluya un programa de atención al cliente personalizado, 2.el uso de análisis de datos para segmentar eficazmente a los consumidores y 3. la incorporación de tecnología avanzada en todos los procesos. Estas acciones maximizarán la satisfacción y la lealtad del cliente, mejorando así el rendimiento financiero general de la empresa ...  **texto en negrita**"
      ],
      "metadata": {
        "id": "3BLyXWxNFddm"
      }
    }
  ],
  "metadata": {
    "colab": {
      "provenance": []
    },
    "kernelspec": {
      "display_name": "Python 3",
      "language": "python",
      "name": "python3"
    },
    "language_info": {
      "name": "python"
    }
  },
  "nbformat": 4,
  "nbformat_minor": 0
}